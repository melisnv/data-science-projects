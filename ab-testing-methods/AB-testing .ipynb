{
 "cells": [
  {
   "cell_type": "markdown",
   "id": "358ddd8b",
   "metadata": {},
   "source": [
    "# AB Testing\n",
    "\n",
    "## Sampling\n",
    "\n",
    "*Sampling* is the process of choosing a portion of a statistical population in order to estimate the characteristics of the entire population. To find patterns and trends in the broader data set being reviewed, *data sampling* is a statistical analysis approach that is used to choose, modify, and analyze a representative selection of data points."
   ]
  },
  {
   "cell_type": "code",
   "execution_count": 1,
   "id": "28729a8a",
   "metadata": {},
   "outputs": [],
   "source": [
    "# libraries\n",
    "import warnings\n",
    "warnings.filterwarnings(\"ignore\")\n",
    "\n",
    "import itertools\n",
    "import numpy as np\n",
    "import pandas as pd\n",
    "import seaborn as sns\n",
    "import matplotlib.pyplot as plt\n",
    "import statsmodels.stats.api as sms\n",
    "from scipy.stats import ttest_1samp, shapiro, levene, ttest_ind, mannwhitneyu, pearsonr\n",
    "from scipy.stats import spearmanr,kendalltau,f_oneway,kruskal\n",
    "from statsmodels.stats.proportion import proportions_ztest\n",
    "\n",
    "pd.set_option(\"display.max_columns\",None)\n",
    "pd.set_option(\"display.width\",500)"
   ]
  },
  {
   "cell_type": "code",
   "execution_count": 2,
   "id": "4beee2c8",
   "metadata": {},
   "outputs": [
    {
     "data": {
      "text/plain": [
       "39.7435"
      ]
     },
     "execution_count": 2,
     "metadata": {},
     "output_type": "execute_result"
    }
   ],
   "source": [
    "# Sampling\n",
    "population = np.random.randint(0,80,10000)\n",
    "population.mean()"
   ]
  },
  {
   "cell_type": "code",
   "execution_count": 3,
   "id": "ea9e5094",
   "metadata": {},
   "outputs": [
    {
     "data": {
      "text/plain": [
       "39.8"
      ]
     },
     "execution_count": 3,
     "metadata": {},
     "output_type": "execute_result"
    }
   ],
   "source": [
    "np.random.seed(115)\n",
    "sampling = np.random.choice(a=population, size=100)\n",
    "sampling.mean() # making generalisations with relatively small data"
   ]
  },
  {
   "cell_type": "markdown",
   "id": "8339856a",
   "metadata": {},
   "source": [
    "## Descriptive Statistics"
   ]
  },
  {
   "cell_type": "code",
   "execution_count": 4,
   "id": "68ab0230",
   "metadata": {},
   "outputs": [
    {
     "data": {
      "text/html": [
       "<div>\n",
       "<style scoped>\n",
       "    .dataframe tbody tr th:only-of-type {\n",
       "        vertical-align: middle;\n",
       "    }\n",
       "\n",
       "    .dataframe tbody tr th {\n",
       "        vertical-align: top;\n",
       "    }\n",
       "\n",
       "    .dataframe thead th {\n",
       "        text-align: right;\n",
       "    }\n",
       "</style>\n",
       "<table border=\"1\" class=\"dataframe\">\n",
       "  <thead>\n",
       "    <tr style=\"text-align: right;\">\n",
       "      <th></th>\n",
       "      <th>total_bill</th>\n",
       "      <th>tip</th>\n",
       "      <th>sex</th>\n",
       "      <th>smoker</th>\n",
       "      <th>day</th>\n",
       "      <th>time</th>\n",
       "      <th>size</th>\n",
       "    </tr>\n",
       "  </thead>\n",
       "  <tbody>\n",
       "    <tr>\n",
       "      <th>0</th>\n",
       "      <td>16.99</td>\n",
       "      <td>1.01</td>\n",
       "      <td>Female</td>\n",
       "      <td>No</td>\n",
       "      <td>Sun</td>\n",
       "      <td>Dinner</td>\n",
       "      <td>2</td>\n",
       "    </tr>\n",
       "    <tr>\n",
       "      <th>1</th>\n",
       "      <td>10.34</td>\n",
       "      <td>1.66</td>\n",
       "      <td>Male</td>\n",
       "      <td>No</td>\n",
       "      <td>Sun</td>\n",
       "      <td>Dinner</td>\n",
       "      <td>3</td>\n",
       "    </tr>\n",
       "    <tr>\n",
       "      <th>2</th>\n",
       "      <td>21.01</td>\n",
       "      <td>3.50</td>\n",
       "      <td>Male</td>\n",
       "      <td>No</td>\n",
       "      <td>Sun</td>\n",
       "      <td>Dinner</td>\n",
       "      <td>3</td>\n",
       "    </tr>\n",
       "    <tr>\n",
       "      <th>3</th>\n",
       "      <td>23.68</td>\n",
       "      <td>3.31</td>\n",
       "      <td>Male</td>\n",
       "      <td>No</td>\n",
       "      <td>Sun</td>\n",
       "      <td>Dinner</td>\n",
       "      <td>2</td>\n",
       "    </tr>\n",
       "    <tr>\n",
       "      <th>4</th>\n",
       "      <td>24.59</td>\n",
       "      <td>3.61</td>\n",
       "      <td>Female</td>\n",
       "      <td>No</td>\n",
       "      <td>Sun</td>\n",
       "      <td>Dinner</td>\n",
       "      <td>4</td>\n",
       "    </tr>\n",
       "  </tbody>\n",
       "</table>\n",
       "</div>"
      ],
      "text/plain": [
       "   total_bill   tip     sex smoker  day    time  size\n",
       "0       16.99  1.01  Female     No  Sun  Dinner     2\n",
       "1       10.34  1.66    Male     No  Sun  Dinner     3\n",
       "2       21.01  3.50    Male     No  Sun  Dinner     3\n",
       "3       23.68  3.31    Male     No  Sun  Dinner     2\n",
       "4       24.59  3.61  Female     No  Sun  Dinner     4"
      ]
     },
     "execution_count": 4,
     "metadata": {},
     "output_type": "execute_result"
    }
   ],
   "source": [
    "df = sns.load_dataset(\"tips\")\n",
    "df.head()"
   ]
  },
  {
   "cell_type": "code",
   "execution_count": 5,
   "id": "262be697",
   "metadata": {},
   "outputs": [
    {
     "data": {
      "text/html": [
       "<div>\n",
       "<style scoped>\n",
       "    .dataframe tbody tr th:only-of-type {\n",
       "        vertical-align: middle;\n",
       "    }\n",
       "\n",
       "    .dataframe tbody tr th {\n",
       "        vertical-align: top;\n",
       "    }\n",
       "\n",
       "    .dataframe thead th {\n",
       "        text-align: right;\n",
       "    }\n",
       "</style>\n",
       "<table border=\"1\" class=\"dataframe\">\n",
       "  <thead>\n",
       "    <tr style=\"text-align: right;\">\n",
       "      <th></th>\n",
       "      <th>count</th>\n",
       "      <th>mean</th>\n",
       "      <th>std</th>\n",
       "      <th>min</th>\n",
       "      <th>25%</th>\n",
       "      <th>50%</th>\n",
       "      <th>75%</th>\n",
       "      <th>max</th>\n",
       "    </tr>\n",
       "  </thead>\n",
       "  <tbody>\n",
       "    <tr>\n",
       "      <th>total_bill</th>\n",
       "      <td>244.0</td>\n",
       "      <td>19.785943</td>\n",
       "      <td>8.902412</td>\n",
       "      <td>3.07</td>\n",
       "      <td>13.3475</td>\n",
       "      <td>17.795</td>\n",
       "      <td>24.1275</td>\n",
       "      <td>50.81</td>\n",
       "    </tr>\n",
       "    <tr>\n",
       "      <th>tip</th>\n",
       "      <td>244.0</td>\n",
       "      <td>2.998279</td>\n",
       "      <td>1.383638</td>\n",
       "      <td>1.00</td>\n",
       "      <td>2.0000</td>\n",
       "      <td>2.900</td>\n",
       "      <td>3.5625</td>\n",
       "      <td>10.00</td>\n",
       "    </tr>\n",
       "    <tr>\n",
       "      <th>size</th>\n",
       "      <td>244.0</td>\n",
       "      <td>2.569672</td>\n",
       "      <td>0.951100</td>\n",
       "      <td>1.00</td>\n",
       "      <td>2.0000</td>\n",
       "      <td>2.000</td>\n",
       "      <td>3.0000</td>\n",
       "      <td>6.00</td>\n",
       "    </tr>\n",
       "  </tbody>\n",
       "</table>\n",
       "</div>"
      ],
      "text/plain": [
       "            count       mean       std   min      25%     50%      75%    max\n",
       "total_bill  244.0  19.785943  8.902412  3.07  13.3475  17.795  24.1275  50.81\n",
       "tip         244.0   2.998279  1.383638  1.00   2.0000   2.900   3.5625  10.00\n",
       "size        244.0   2.569672  0.951100  1.00   2.0000   2.000   3.0000   6.00"
      ]
     },
     "execution_count": 5,
     "metadata": {},
     "output_type": "execute_result"
    }
   ],
   "source": [
    "df.describe().T"
   ]
  },
  {
   "cell_type": "markdown",
   "id": "3f219ba9",
   "metadata": {},
   "source": [
    "Quarter values defined here provide information about the distribution of the relevant variable. For example, since the *mean* and the *median* (50%) are close to each other, no outliers can be inferred. If the relevant variable has outliers, the median should be preferred instead of the mean for the observation."
   ]
  },
  {
   "attachments": {
    "1.png": {
     "image/png": "[encoded data removed]"
    }
   },
   "cell_type": "markdown",
   "id": "69885ff3",
   "metadata": {},
   "source": [
    "## Confidence Intervals\n",
    "\n",
    "A confidence interval is a range of estimates for an unknown parameter in frequentist statistics. A confidence interval is the estimate's mean plus and minus the estimate's range of values. If the test were to be repeated, this is the range of values that, with a particular level of confidence, one would anticipate the estimate to fall between. At a certain degree of confidence, often 95%, a confidence interval is calculated.\n",
    "\n",
    "![1.png](attachment:1.png)\n",
    "\n",
    "*CI*\t=\tconfidence interval<br>\n",
    "*x* =\tsample mean<br>\n",
    "*z*\t=\tconfidence level value<br>\n",
    "*s*\t=\tsample standard deviation<br>\n",
    "*n*\t=\tsample size"
   ]
  },
  {
   "cell_type": "code",
   "execution_count": 6,
   "id": "8c3fd005",
   "metadata": {},
   "outputs": [
    {
     "data": {
      "text/plain": [
       "(18.66333170435847, 20.908553541543164)"
      ]
     },
     "execution_count": 6,
     "metadata": {},
     "output_type": "execute_result"
    }
   ],
   "source": [
    "sms.DescrStatsW(df[\"total_bill\"]).tconfint_mean()"
   ]
  },
  {
   "cell_type": "code",
   "execution_count": 7,
   "id": "bc18072c",
   "metadata": {},
   "outputs": [
    {
     "data": {
      "text/plain": [
       "(2.823799306281821, 3.1727580707673595)"
      ]
     },
     "execution_count": 7,
     "metadata": {},
     "output_type": "execute_result"
    }
   ],
   "source": [
    "sms.DescrStatsW(df[\"tip\"]).tconfint_mean()"
   ]
  },
  {
   "cell_type": "markdown",
   "id": "ec6f6c79",
   "metadata": {},
   "source": [
    "The tips that incoming customers will leave will be in these two ranges on average."
   ]
  },
  {
   "attachments": {
    "2.svg": {
     "image/svg+xml": [
      "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"
     ]
    }
   },
   "cell_type": "markdown",
   "id": "b5c89481",
   "metadata": {},
   "source": [
    "## Correlation\n",
    "\n",
    "A statistical measure correlation shows how much two or more variables fluctuate in connection to one another. There is no association between the variables if the correlation is zero. A complete correlation of -1 or 1 means that when one variable changes, the other variables also change. \n",
    "\n",
    "![2.svg](attachment:2.svg)"
   ]
  },
  {
   "cell_type": "code",
   "execution_count": 8,
   "id": "dcfe4759",
   "metadata": {},
   "outputs": [
    {
     "name": "stderr",
     "output_type": "stream",
     "text": [
      "*c* argument looks like a single numeric RGB or RGBA sequence, which should be avoided as value-mapping will have precedence in case its length matches with *x* & *y*.  Please use the *color* keyword-argument or provide a 2D array with a single row if you intend to specify the same RGB or RGBA value for all points.\n"
     ]
    },
    {
     "data": {
      "image/png": "[encoded data removed]",
      "text/plain": [
       "<Figure size 864x864 with 1 Axes>"
      ]
     },
     "metadata": {},
     "output_type": "display_data"
    }
   ],
   "source": [
    "sns.set(rc={\"figure.figsize\":(12,12)})\n",
    "df[\"total_bill\"] = df[\"total_bill\"] - df[\"tip\"]\n",
    "df.plot.scatter(\"tip\",\"total_bill\");"
   ]
  },
  {
   "cell_type": "code",
   "execution_count": 9,
   "id": "e3dbd5d1",
   "metadata": {},
   "outputs": [
    {
     "data": {
      "text/plain": [
       "0.5766634471096378"
      ]
     },
     "execution_count": 9,
     "metadata": {},
     "output_type": "execute_result"
    }
   ],
   "source": [
    "corr = df[\"tip\"].corr(df[\"total_bill\"])\n",
    "corr"
   ]
  },
  {
   "cell_type": "code",
   "execution_count": 10,
   "id": "5a97abb7",
   "metadata": {},
   "outputs": [
    {
     "data": {
      "image/png": "[encoded data removed]",
      "text/plain": [
       "<Figure size 864x864 with 2 Axes>"
      ]
     },
     "metadata": {},
     "output_type": "display_data"
    }
   ],
   "source": [
    "heatmap = sns.heatmap(df.corr(), vmin=-1, vmax=1, annot=True)\n",
    "heatmap.set_title('Correlation Heatmap', fontdict={'fontsize':12}, pad=12);"
   ]
  },
  {
   "cell_type": "markdown",
   "id": "9c95bdb4",
   "metadata": {},
   "source": [
    "## Hypothesis Testing\n",
    "\n",
    "1. Construct hypotheses\n",
    "2. Assumption Check\n",
    "    - Normality Assumption\n",
    "    - Variance Homogeneity\n",
    "3. Implementation of the Hypothesis\n",
    "    - Independent two-sample t-test (parametric test) if assumptions are met\n",
    "    - Mannwhitneyu test if assumptions are not provided (non-parametric test)\n",
    "    \n",
    "    \n",
    "### Checking whether there is a statistical difference between the account averages of smokers and non-smokers"
   ]
  },
  {
   "cell_type": "code",
   "execution_count": 11,
   "id": "131226ba",
   "metadata": {},
   "outputs": [
    {
     "data": {
      "text/html": [
       "<div>\n",
       "<style scoped>\n",
       "    .dataframe tbody tr th:only-of-type {\n",
       "        vertical-align: middle;\n",
       "    }\n",
       "\n",
       "    .dataframe tbody tr th {\n",
       "        vertical-align: top;\n",
       "    }\n",
       "\n",
       "    .dataframe thead th {\n",
       "        text-align: right;\n",
       "    }\n",
       "</style>\n",
       "<table border=\"1\" class=\"dataframe\">\n",
       "  <thead>\n",
       "    <tr style=\"text-align: right;\">\n",
       "      <th></th>\n",
       "      <th>total_bill</th>\n",
       "      <th>tip</th>\n",
       "      <th>sex</th>\n",
       "      <th>smoker</th>\n",
       "      <th>day</th>\n",
       "      <th>time</th>\n",
       "      <th>size</th>\n",
       "    </tr>\n",
       "  </thead>\n",
       "  <tbody>\n",
       "    <tr>\n",
       "      <th>0</th>\n",
       "      <td>15.98</td>\n",
       "      <td>1.01</td>\n",
       "      <td>Female</td>\n",
       "      <td>No</td>\n",
       "      <td>Sun</td>\n",
       "      <td>Dinner</td>\n",
       "      <td>2</td>\n",
       "    </tr>\n",
       "    <tr>\n",
       "      <th>1</th>\n",
       "      <td>8.68</td>\n",
       "      <td>1.66</td>\n",
       "      <td>Male</td>\n",
       "      <td>No</td>\n",
       "      <td>Sun</td>\n",
       "      <td>Dinner</td>\n",
       "      <td>3</td>\n",
       "    </tr>\n",
       "    <tr>\n",
       "      <th>2</th>\n",
       "      <td>17.51</td>\n",
       "      <td>3.50</td>\n",
       "      <td>Male</td>\n",
       "      <td>No</td>\n",
       "      <td>Sun</td>\n",
       "      <td>Dinner</td>\n",
       "      <td>3</td>\n",
       "    </tr>\n",
       "    <tr>\n",
       "      <th>3</th>\n",
       "      <td>20.37</td>\n",
       "      <td>3.31</td>\n",
       "      <td>Male</td>\n",
       "      <td>No</td>\n",
       "      <td>Sun</td>\n",
       "      <td>Dinner</td>\n",
       "      <td>2</td>\n",
       "    </tr>\n",
       "    <tr>\n",
       "      <th>4</th>\n",
       "      <td>20.98</td>\n",
       "      <td>3.61</td>\n",
       "      <td>Female</td>\n",
       "      <td>No</td>\n",
       "      <td>Sun</td>\n",
       "      <td>Dinner</td>\n",
       "      <td>4</td>\n",
       "    </tr>\n",
       "  </tbody>\n",
       "</table>\n",
       "</div>"
      ],
      "text/plain": [
       "   total_bill   tip     sex smoker  day    time  size\n",
       "0       15.98  1.01  Female     No  Sun  Dinner     2\n",
       "1        8.68  1.66    Male     No  Sun  Dinner     3\n",
       "2       17.51  3.50    Male     No  Sun  Dinner     3\n",
       "3       20.37  3.31    Male     No  Sun  Dinner     2\n",
       "4       20.98  3.61  Female     No  Sun  Dinner     4"
      ]
     },
     "execution_count": 11,
     "metadata": {},
     "output_type": "execute_result"
    }
   ],
   "source": [
    "df.head()"
   ]
  },
  {
   "cell_type": "code",
   "execution_count": 12,
   "id": "e3f2dcd6",
   "metadata": {},
   "outputs": [
    {
     "data": {
      "text/html": [
       "<div>\n",
       "<style scoped>\n",
       "    .dataframe tbody tr th:only-of-type {\n",
       "        vertical-align: middle;\n",
       "    }\n",
       "\n",
       "    .dataframe tbody tr th {\n",
       "        vertical-align: top;\n",
       "    }\n",
       "\n",
       "    .dataframe thead th {\n",
       "        text-align: right;\n",
       "    }\n",
       "</style>\n",
       "<table border=\"1\" class=\"dataframe\">\n",
       "  <thead>\n",
       "    <tr style=\"text-align: right;\">\n",
       "      <th></th>\n",
       "      <th>total_bill</th>\n",
       "    </tr>\n",
       "    <tr>\n",
       "      <th>smoker</th>\n",
       "      <th></th>\n",
       "    </tr>\n",
       "  </thead>\n",
       "  <tbody>\n",
       "    <tr>\n",
       "      <th>Yes</th>\n",
       "      <td>17.747634</td>\n",
       "    </tr>\n",
       "    <tr>\n",
       "      <th>No</th>\n",
       "      <td>16.196424</td>\n",
       "    </tr>\n",
       "  </tbody>\n",
       "</table>\n",
       "</div>"
      ],
      "text/plain": [
       "        total_bill\n",
       "smoker            \n",
       "Yes      17.747634\n",
       "No       16.196424"
      ]
     },
     "execution_count": 12,
     "metadata": {},
     "output_type": "execute_result"
    }
   ],
   "source": [
    "df.groupby(\"smoker\").agg({\"total_bill\":\"mean\"})"
   ]
  },
  {
   "cell_type": "markdown",
   "id": "33e68b76",
   "metadata": {},
   "source": [
    "*Hypothesis*<br>\n",
    "H0 : M1 = M2<br>\n",
    "H1 : M1 != M2"
   ]
  },
  {
   "cell_type": "code",
   "execution_count": 13,
   "id": "b7e86063",
   "metadata": {},
   "outputs": [
    {
     "name": "stdout",
     "output_type": "stream",
     "text": [
      "Test Stat = 0.9229, p-value = 0.0000\n"
     ]
    }
   ],
   "source": [
    "# Checking normality\n",
    "\n",
    "test_stat, pvalue = shapiro(df.loc[df[\"smoker\"] == \"Yes\",\"total_bill\"])\n",
    "print(\"Test Stat = %.4f, p-value = %.4f\" %(test_stat,pvalue)) # H0 is rejected because no normality"
   ]
  },
  {
   "cell_type": "code",
   "execution_count": 14,
   "id": "50d5db0d",
   "metadata": {},
   "outputs": [
    {
     "name": "stdout",
     "output_type": "stream",
     "text": [
      "Test Stat = 1.4685, p-value = 0.1433\n"
     ]
    }
   ],
   "source": [
    "# Independent two-sample t-test (parametric test) if assumptions are met\n",
    "test_stat, pvalue = ttest_ind(df.loc[df[\"smoker\"] == \"Yes\",\"total_bill\"],\n",
    "                           df.loc[df[\"smoker\"] == \"No\",\"total_bill\"],\n",
    "                             equal_var=True)\n",
    "\n",
    "print(\"Test Stat = %.4f, p-value = %.4f\" %(test_stat,pvalue)) "
   ]
  },
  {
   "cell_type": "code",
   "execution_count": 15,
   "id": "9c823cfb",
   "metadata": {},
   "outputs": [
    {
     "data": {
      "text/html": [
       "<div>\n",
       "<style scoped>\n",
       "    .dataframe tbody tr th:only-of-type {\n",
       "        vertical-align: middle;\n",
       "    }\n",
       "\n",
       "    .dataframe tbody tr th {\n",
       "        vertical-align: top;\n",
       "    }\n",
       "\n",
       "    .dataframe thead th {\n",
       "        text-align: right;\n",
       "    }\n",
       "</style>\n",
       "<table border=\"1\" class=\"dataframe\">\n",
       "  <thead>\n",
       "    <tr style=\"text-align: right;\">\n",
       "      <th></th>\n",
       "      <th>survived</th>\n",
       "      <th>pclass</th>\n",
       "      <th>sex</th>\n",
       "      <th>age</th>\n",
       "      <th>sibsp</th>\n",
       "      <th>parch</th>\n",
       "      <th>fare</th>\n",
       "      <th>embarked</th>\n",
       "      <th>class</th>\n",
       "      <th>who</th>\n",
       "      <th>adult_male</th>\n",
       "      <th>deck</th>\n",
       "      <th>embark_town</th>\n",
       "      <th>alive</th>\n",
       "      <th>alone</th>\n",
       "    </tr>\n",
       "  </thead>\n",
       "  <tbody>\n",
       "    <tr>\n",
       "      <th>0</th>\n",
       "      <td>0</td>\n",
       "      <td>3</td>\n",
       "      <td>male</td>\n",
       "      <td>22.0</td>\n",
       "      <td>1</td>\n",
       "      <td>0</td>\n",
       "      <td>7.2500</td>\n",
       "      <td>S</td>\n",
       "      <td>Third</td>\n",
       "      <td>man</td>\n",
       "      <td>True</td>\n",
       "      <td>NaN</td>\n",
       "      <td>Southampton</td>\n",
       "      <td>no</td>\n",
       "      <td>False</td>\n",
       "    </tr>\n",
       "    <tr>\n",
       "      <th>1</th>\n",
       "      <td>1</td>\n",
       "      <td>1</td>\n",
       "      <td>female</td>\n",
       "      <td>38.0</td>\n",
       "      <td>1</td>\n",
       "      <td>0</td>\n",
       "      <td>71.2833</td>\n",
       "      <td>C</td>\n",
       "      <td>First</td>\n",
       "      <td>woman</td>\n",
       "      <td>False</td>\n",
       "      <td>C</td>\n",
       "      <td>Cherbourg</td>\n",
       "      <td>yes</td>\n",
       "      <td>False</td>\n",
       "    </tr>\n",
       "    <tr>\n",
       "      <th>2</th>\n",
       "      <td>1</td>\n",
       "      <td>3</td>\n",
       "      <td>female</td>\n",
       "      <td>26.0</td>\n",
       "      <td>0</td>\n",
       "      <td>0</td>\n",
       "      <td>7.9250</td>\n",
       "      <td>S</td>\n",
       "      <td>Third</td>\n",
       "      <td>woman</td>\n",
       "      <td>False</td>\n",
       "      <td>NaN</td>\n",
       "      <td>Southampton</td>\n",
       "      <td>yes</td>\n",
       "      <td>True</td>\n",
       "    </tr>\n",
       "    <tr>\n",
       "      <th>3</th>\n",
       "      <td>1</td>\n",
       "      <td>1</td>\n",
       "      <td>female</td>\n",
       "      <td>35.0</td>\n",
       "      <td>1</td>\n",
       "      <td>0</td>\n",
       "      <td>53.1000</td>\n",
       "      <td>S</td>\n",
       "      <td>First</td>\n",
       "      <td>woman</td>\n",
       "      <td>False</td>\n",
       "      <td>C</td>\n",
       "      <td>Southampton</td>\n",
       "      <td>yes</td>\n",
       "      <td>False</td>\n",
       "    </tr>\n",
       "    <tr>\n",
       "      <th>4</th>\n",
       "      <td>0</td>\n",
       "      <td>3</td>\n",
       "      <td>male</td>\n",
       "      <td>35.0</td>\n",
       "      <td>0</td>\n",
       "      <td>0</td>\n",
       "      <td>8.0500</td>\n",
       "      <td>S</td>\n",
       "      <td>Third</td>\n",
       "      <td>man</td>\n",
       "      <td>True</td>\n",
       "      <td>NaN</td>\n",
       "      <td>Southampton</td>\n",
       "      <td>no</td>\n",
       "      <td>True</td>\n",
       "    </tr>\n",
       "  </tbody>\n",
       "</table>\n",
       "</div>"
      ],
      "text/plain": [
       "   survived  pclass     sex   age  sibsp  parch     fare embarked  class    who  adult_male deck  embark_town alive  alone\n",
       "0         0       3    male  22.0      1      0   7.2500        S  Third    man        True  NaN  Southampton    no  False\n",
       "1         1       1  female  38.0      1      0  71.2833        C  First  woman       False    C    Cherbourg   yes  False\n",
       "2         1       3  female  26.0      0      0   7.9250        S  Third  woman       False  NaN  Southampton   yes   True\n",
       "3         1       1  female  35.0      1      0  53.1000        S  First  woman       False    C  Southampton   yes  False\n",
       "4         0       3    male  35.0      0      0   8.0500        S  Third    man        True  NaN  Southampton    no   True"
      ]
     },
     "execution_count": 15,
     "metadata": {},
     "output_type": "execute_result"
    }
   ],
   "source": [
    "df = sns.load_dataset(\"titanic\")\n",
    "df.head()"
   ]
  },
  {
   "cell_type": "code",
   "execution_count": 16,
   "id": "88ac1649",
   "metadata": {},
   "outputs": [
    {
     "name": "stdout",
     "output_type": "stream",
     "text": [
      "Test Stat = 0.9848, p-value = 0.0071\n",
      "Test Stat = 0.9747, p-value = 0.0000\n"
     ]
    }
   ],
   "source": [
    "test_stat, pvalue = shapiro(df.loc[df[\"sex\"] == \"female\",\"age\"].dropna())\n",
    "print(\"Test Stat = %.4f, p-value = %.4f\" %(test_stat,pvalue)) \n",
    "\n",
    "test_stat2, pvalue2 = shapiro(df.loc[df[\"sex\"] == \"male\",\"age\"].dropna())\n",
    "print(\"Test Stat = %.4f, p-value = %.4f\" %(test_stat2,pvalue2)) "
   ]
  },
  {
   "cell_type": "code",
   "execution_count": 17,
   "id": "bec8fe09",
   "metadata": {},
   "outputs": [
    {
     "name": "stdout",
     "output_type": "stream",
     "text": [
      "Test Stat = 53212.5000, p-value = 0.0261\n"
     ]
    }
   ],
   "source": [
    "test_stat, pvalue = mannwhitneyu(df.loc[df[\"sex\"] == \"female\",\"age\"].dropna(),\n",
    "                           df.loc[df[\"sex\"] == \"male\",\"age\"].dropna(),)\n",
    "\n",
    "print(\"Test Stat = %.4f, p-value = %.4f\" %(test_stat,pvalue)) "
   ]
  },
  {
   "cell_type": "markdown",
   "id": "19b0baad",
   "metadata": {},
   "source": [
    "--------------------------"
   ]
  },
  {
   "cell_type": "code",
   "execution_count": 18,
   "id": "2f2146f6",
   "metadata": {},
   "outputs": [
    {
     "data": {
      "text/html": [
       "<div>\n",
       "<style scoped>\n",
       "    .dataframe tbody tr th:only-of-type {\n",
       "        vertical-align: middle;\n",
       "    }\n",
       "\n",
       "    .dataframe tbody tr th {\n",
       "        vertical-align: top;\n",
       "    }\n",
       "\n",
       "    .dataframe thead th {\n",
       "        text-align: right;\n",
       "    }\n",
       "</style>\n",
       "<table border=\"1\" class=\"dataframe\">\n",
       "  <thead>\n",
       "    <tr style=\"text-align: right;\">\n",
       "      <th></th>\n",
       "      <th>Pregnancies</th>\n",
       "      <th>Glucose</th>\n",
       "      <th>BloodPressure</th>\n",
       "      <th>SkinThickness</th>\n",
       "      <th>Insulin</th>\n",
       "      <th>BMI</th>\n",
       "      <th>DiabetesPedigreeFunction</th>\n",
       "      <th>Age</th>\n",
       "      <th>Outcome</th>\n",
       "    </tr>\n",
       "  </thead>\n",
       "  <tbody>\n",
       "    <tr>\n",
       "      <th>0</th>\n",
       "      <td>6</td>\n",
       "      <td>148</td>\n",
       "      <td>72</td>\n",
       "      <td>35</td>\n",
       "      <td>0</td>\n",
       "      <td>33.6</td>\n",
       "      <td>0.627</td>\n",
       "      <td>50</td>\n",
       "      <td>1</td>\n",
       "    </tr>\n",
       "    <tr>\n",
       "      <th>1</th>\n",
       "      <td>1</td>\n",
       "      <td>85</td>\n",
       "      <td>66</td>\n",
       "      <td>29</td>\n",
       "      <td>0</td>\n",
       "      <td>26.6</td>\n",
       "      <td>0.351</td>\n",
       "      <td>31</td>\n",
       "      <td>0</td>\n",
       "    </tr>\n",
       "    <tr>\n",
       "      <th>2</th>\n",
       "      <td>8</td>\n",
       "      <td>183</td>\n",
       "      <td>64</td>\n",
       "      <td>0</td>\n",
       "      <td>0</td>\n",
       "      <td>23.3</td>\n",
       "      <td>0.672</td>\n",
       "      <td>32</td>\n",
       "      <td>1</td>\n",
       "    </tr>\n",
       "    <tr>\n",
       "      <th>3</th>\n",
       "      <td>1</td>\n",
       "      <td>89</td>\n",
       "      <td>66</td>\n",
       "      <td>23</td>\n",
       "      <td>94</td>\n",
       "      <td>28.1</td>\n",
       "      <td>0.167</td>\n",
       "      <td>21</td>\n",
       "      <td>0</td>\n",
       "    </tr>\n",
       "    <tr>\n",
       "      <th>4</th>\n",
       "      <td>0</td>\n",
       "      <td>137</td>\n",
       "      <td>40</td>\n",
       "      <td>35</td>\n",
       "      <td>168</td>\n",
       "      <td>43.1</td>\n",
       "      <td>2.288</td>\n",
       "      <td>33</td>\n",
       "      <td>1</td>\n",
       "    </tr>\n",
       "  </tbody>\n",
       "</table>\n",
       "</div>"
      ],
      "text/plain": [
       "   Pregnancies  Glucose  BloodPressure  SkinThickness  Insulin   BMI  DiabetesPedigreeFunction  Age  Outcome\n",
       "0            6      148             72             35        0  33.6                     0.627   50        1\n",
       "1            1       85             66             29        0  26.6                     0.351   31        0\n",
       "2            8      183             64              0        0  23.3                     0.672   32        1\n",
       "3            1       89             66             23       94  28.1                     0.167   21        0\n",
       "4            0      137             40             35      168  43.1                     2.288   33        1"
      ]
     },
     "execution_count": 18,
     "metadata": {},
     "output_type": "execute_result"
    }
   ],
   "source": [
    "data_diabets = pd.read_csv(\"datas/diabetes.csv\")\n",
    "data_diabets.head()"
   ]
  },
  {
   "cell_type": "code",
   "execution_count": 19,
   "id": "e83fca3a",
   "metadata": {},
   "outputs": [
    {
     "data": {
      "text/html": [
       "<div>\n",
       "<style scoped>\n",
       "    .dataframe tbody tr th:only-of-type {\n",
       "        vertical-align: middle;\n",
       "    }\n",
       "\n",
       "    .dataframe tbody tr th {\n",
       "        vertical-align: top;\n",
       "    }\n",
       "\n",
       "    .dataframe thead th {\n",
       "        text-align: right;\n",
       "    }\n",
       "</style>\n",
       "<table border=\"1\" class=\"dataframe\">\n",
       "  <thead>\n",
       "    <tr style=\"text-align: right;\">\n",
       "      <th></th>\n",
       "      <th>Age</th>\n",
       "    </tr>\n",
       "    <tr>\n",
       "      <th>Outcome</th>\n",
       "      <th></th>\n",
       "    </tr>\n",
       "  </thead>\n",
       "  <tbody>\n",
       "    <tr>\n",
       "      <th>0</th>\n",
       "      <td>31.190000</td>\n",
       "    </tr>\n",
       "    <tr>\n",
       "      <th>1</th>\n",
       "      <td>37.067164</td>\n",
       "    </tr>\n",
       "  </tbody>\n",
       "</table>\n",
       "</div>"
      ],
      "text/plain": [
       "               Age\n",
       "Outcome           \n",
       "0        31.190000\n",
       "1        37.067164"
      ]
     },
     "execution_count": 19,
     "metadata": {},
     "output_type": "execute_result"
    }
   ],
   "source": [
    "data_diabets.groupby(\"Outcome\").agg({\"Age\":\"mean\"})"
   ]
  },
  {
   "cell_type": "markdown",
   "id": "9b67401b",
   "metadata": {},
   "source": [
    "Turning this into a hypothesis:\n",
    "\n",
    "H0 : M1 = M2<br>\n",
    "H1 : M1 != M2<br>"
   ]
  },
  {
   "cell_type": "code",
   "execution_count": 20,
   "id": "ba1cbc9a",
   "metadata": {},
   "outputs": [
    {
     "name": "stdout",
     "output_type": "stream",
     "text": [
      "Test Stat = 0.9546, p-value = 0.0000\n",
      "Test Stat = 0.8012, p-value = 0.0000\n"
     ]
    }
   ],
   "source": [
    "test_stat, pvalue = shapiro(data_diabets.loc[data_diabets[\"Outcome\"] == 1,\"Age\"].dropna())\n",
    "print(\"Test Stat = %.4f, p-value = %.4f\" %(test_stat,pvalue)) \n",
    "\n",
    "test_stat2, pvalue2 = shapiro(data_diabets.loc[data_diabets[\"Outcome\"] == 0,\"Age\"].dropna())\n",
    "print(\"Test Stat = %.4f, p-value = %.4f\" %(test_stat2,pvalue2)) "
   ]
  },
  {
   "cell_type": "code",
   "execution_count": 21,
   "id": "25d14a7d",
   "metadata": {},
   "outputs": [
    {
     "name": "stdout",
     "output_type": "stream",
     "text": [
      "Test Stat = 92050.0000, p-value = 0.0000\n"
     ]
    }
   ],
   "source": [
    "test_stat_mw, pvalue_mw = mannwhitneyu(data_diabets.loc[data_diabets[\"Outcome\"] == 1,\"Age\"].dropna(),\n",
    "                                 data_diabets.loc[data_diabets[\"Outcome\"] == 0,\"Age\"].dropna())\n",
    "print(\"Test Stat = %.4f, p-value = %.4f\" %(test_stat_mw,pvalue_mw)) "
   ]
  },
  {
   "cell_type": "markdown",
   "id": "3ecfa990",
   "metadata": {},
   "source": [
    "------------------------------------\n",
    "## Business Problem\n",
    "\n",
    "For an online education-course platform the question is:<br>\n",
    "*Are the scores of those who watched the majority of the course and those who did not differ from each other?*"
   ]
  },
  {
   "cell_type": "code",
   "execution_count": 22,
   "id": "3e16c103",
   "metadata": {},
   "outputs": [
    {
     "data": {
      "text/html": [
       "<div>\n",
       "<style scoped>\n",
       "    .dataframe tbody tr th:only-of-type {\n",
       "        vertical-align: middle;\n",
       "    }\n",
       "\n",
       "    .dataframe tbody tr th {\n",
       "        vertical-align: top;\n",
       "    }\n",
       "\n",
       "    .dataframe thead th {\n",
       "        text-align: right;\n",
       "    }\n",
       "</style>\n",
       "<table border=\"1\" class=\"dataframe\">\n",
       "  <thead>\n",
       "    <tr style=\"text-align: right;\">\n",
       "      <th></th>\n",
       "      <th>Rating</th>\n",
       "      <th>Timestamp</th>\n",
       "      <th>Enrolled</th>\n",
       "      <th>Progress</th>\n",
       "      <th>Questions Asked</th>\n",
       "      <th>Questions Answered</th>\n",
       "    </tr>\n",
       "  </thead>\n",
       "  <tbody>\n",
       "    <tr>\n",
       "      <th>0</th>\n",
       "      <td>5.0</td>\n",
       "      <td>2021-02-05 07:45:55</td>\n",
       "      <td>2021-01-25 15:12:08</td>\n",
       "      <td>5.0</td>\n",
       "      <td>0.0</td>\n",
       "      <td>0.0</td>\n",
       "    </tr>\n",
       "    <tr>\n",
       "      <th>1</th>\n",
       "      <td>5.0</td>\n",
       "      <td>2021-02-04 21:05:32</td>\n",
       "      <td>2021-02-04 20:43:40</td>\n",
       "      <td>1.0</td>\n",
       "      <td>0.0</td>\n",
       "      <td>0.0</td>\n",
       "    </tr>\n",
       "    <tr>\n",
       "      <th>2</th>\n",
       "      <td>4.5</td>\n",
       "      <td>2021-02-04 20:34:03</td>\n",
       "      <td>2019-07-04 23:23:27</td>\n",
       "      <td>1.0</td>\n",
       "      <td>0.0</td>\n",
       "      <td>0.0</td>\n",
       "    </tr>\n",
       "    <tr>\n",
       "      <th>3</th>\n",
       "      <td>5.0</td>\n",
       "      <td>2021-02-04 16:56:28</td>\n",
       "      <td>2021-02-04 14:41:29</td>\n",
       "      <td>10.0</td>\n",
       "      <td>0.0</td>\n",
       "      <td>0.0</td>\n",
       "    </tr>\n",
       "    <tr>\n",
       "      <th>4</th>\n",
       "      <td>4.0</td>\n",
       "      <td>2021-02-04 15:00:24</td>\n",
       "      <td>2020-10-13 03:10:07</td>\n",
       "      <td>10.0</td>\n",
       "      <td>0.0</td>\n",
       "      <td>0.0</td>\n",
       "    </tr>\n",
       "  </tbody>\n",
       "</table>\n",
       "</div>"
      ],
      "text/plain": [
       "   Rating            Timestamp             Enrolled  Progress  Questions Asked  Questions Answered\n",
       "0     5.0  2021-02-05 07:45:55  2021-01-25 15:12:08       5.0              0.0                 0.0\n",
       "1     5.0  2021-02-04 21:05:32  2021-02-04 20:43:40       1.0              0.0                 0.0\n",
       "2     4.5  2021-02-04 20:34:03  2019-07-04 23:23:27       1.0              0.0                 0.0\n",
       "3     5.0  2021-02-04 16:56:28  2021-02-04 14:41:29      10.0              0.0                 0.0\n",
       "4     4.0  2021-02-04 15:00:24  2020-10-13 03:10:07      10.0              0.0                 0.0"
      ]
     },
     "execution_count": 22,
     "metadata": {},
     "output_type": "execute_result"
    }
   ],
   "source": [
    "data = pd.read_csv(\"datas/course_reviews.csv\")\n",
    "data.head()"
   ]
  },
  {
   "cell_type": "code",
   "execution_count": 23,
   "id": "49d1aa20",
   "metadata": {},
   "outputs": [
    {
     "data": {
      "text/html": [
       "<div>\n",
       "<style scoped>\n",
       "    .dataframe tbody tr th:only-of-type {\n",
       "        vertical-align: middle;\n",
       "    }\n",
       "\n",
       "    .dataframe tbody tr th {\n",
       "        vertical-align: top;\n",
       "    }\n",
       "\n",
       "    .dataframe thead th {\n",
       "        text-align: right;\n",
       "    }\n",
       "</style>\n",
       "<table border=\"1\" class=\"dataframe\">\n",
       "  <thead>\n",
       "    <tr style=\"text-align: right;\">\n",
       "      <th></th>\n",
       "      <th>Progress</th>\n",
       "    </tr>\n",
       "    <tr>\n",
       "      <th>Rating</th>\n",
       "      <th></th>\n",
       "    </tr>\n",
       "  </thead>\n",
       "  <tbody>\n",
       "    <tr>\n",
       "      <th>1.0</th>\n",
       "      <td>15</td>\n",
       "    </tr>\n",
       "    <tr>\n",
       "      <th>1.5</th>\n",
       "      <td>2</td>\n",
       "    </tr>\n",
       "    <tr>\n",
       "      <th>2.0</th>\n",
       "      <td>12</td>\n",
       "    </tr>\n",
       "    <tr>\n",
       "      <th>2.5</th>\n",
       "      <td>11</td>\n",
       "    </tr>\n",
       "    <tr>\n",
       "      <th>3.0</th>\n",
       "      <td>62</td>\n",
       "    </tr>\n",
       "    <tr>\n",
       "      <th>3.5</th>\n",
       "      <td>96</td>\n",
       "    </tr>\n",
       "    <tr>\n",
       "      <th>4.0</th>\n",
       "      <td>383</td>\n",
       "    </tr>\n",
       "    <tr>\n",
       "      <th>4.5</th>\n",
       "      <td>475</td>\n",
       "    </tr>\n",
       "    <tr>\n",
       "      <th>5.0</th>\n",
       "      <td>3267</td>\n",
       "    </tr>\n",
       "  </tbody>\n",
       "</table>\n",
       "</div>"
      ],
      "text/plain": [
       "        Progress\n",
       "Rating          \n",
       "1.0           15\n",
       "1.5            2\n",
       "2.0           12\n",
       "2.5           11\n",
       "3.0           62\n",
       "3.5           96\n",
       "4.0          383\n",
       "4.5          475\n",
       "5.0         3267"
      ]
     },
     "execution_count": 23,
     "metadata": {},
     "output_type": "execute_result"
    }
   ],
   "source": [
    "data.groupby(\"Rating\").agg({\"Progress\":\"count\"})"
   ]
  },
  {
   "cell_type": "code",
   "execution_count": 24,
   "id": "1d67925d",
   "metadata": {},
   "outputs": [
    {
     "name": "stdout",
     "output_type": "stream",
     "text": [
      "4.730646306818182\n",
      "4.863146551724138\n"
     ]
    }
   ],
   "source": [
    "# Users' ratings who did not progress until the half of the course\n",
    "print(data[data[\"Progress\"] <= 25][\"Rating\"].mean())\n",
    "\n",
    "# Users' ratings who progressed more than the half of the course\n",
    "print(data[data[\"Progress\"] >= 75][\"Rating\"].mean())"
   ]
  },
  {
   "cell_type": "code",
   "execution_count": 25,
   "id": "046baff6",
   "metadata": {},
   "outputs": [
    {
     "name": "stdout",
     "output_type": "stream",
     "text": [
      "Test Stat = 0.5710, p-value = 0.0000\n",
      "Test Stat = 0.3160, p-value = 0.0000\n"
     ]
    }
   ],
   "source": [
    "test_stat, pvalue = shapiro(data.loc[data[\"Progress\"] < 25][\"Rating\"])\n",
    "print(\"Test Stat = %.4f, p-value = %.4f\" %(test_stat,pvalue)) \n",
    "\n",
    "test_stat2, pvalue2 = shapiro(data.loc[data[\"Progress\"] > 75][\"Rating\"])\n",
    "print(\"Test Stat = %.4f, p-value = %.4f\" %(test_stat2,pvalue2)) "
   ]
  },
  {
   "cell_type": "markdown",
   "id": "76760cc8",
   "metadata": {},
   "source": [
    "*Mann Whitney* test is applied because normality is not provided."
   ]
  },
  {
   "cell_type": "code",
   "execution_count": 26,
   "id": "9a7adcf6",
   "metadata": {},
   "outputs": [
    {
     "name": "stdout",
     "output_type": "stream",
     "text": [
      "Test Stat = 491222.5000, p-value = 0.0000\n"
     ]
    }
   ],
   "source": [
    "test_stat_man, pvalue_man = mannwhitneyu(data.loc[data[\"Progress\"] < 25][\"Rating\"],\n",
    "                                 data.loc[data[\"Progress\"] > 75][\"Rating\"])\n",
    "print(\"Test Stat = %.4f, p-value = %.4f\" %(test_stat_man,pvalue_man)) "
   ]
  },
  {
   "cell_type": "markdown",
   "id": "931ab6b3",
   "metadata": {},
   "source": [
    "-----------------\n",
    "# Comparison of Two Groups Odds\n",
    "## Two Sample Ratio Test"
   ]
  },
  {
   "cell_type": "code",
   "execution_count": 27,
   "id": "e472fbfa",
   "metadata": {},
   "outputs": [
    {
     "data": {
      "text/plain": [
       "(3.7857863233209255, 0.0001532232957772221)"
      ]
     },
     "execution_count": 27,
     "metadata": {},
     "output_type": "execute_result"
    }
   ],
   "source": [
    "success_rates = np.array([300,250])\n",
    "observation_rates = np.array([1000,1100])\n",
    "\n",
    "proportions_ztest(count=success_rates,nobs=observation_rates)"
   ]
  },
  {
   "cell_type": "markdown",
   "id": "9ce69270",
   "metadata": {},
   "source": [
    "*Is there a statistical difference between the survival rates of male and female passengers?*"
   ]
  },
  {
   "cell_type": "code",
   "execution_count": 28,
   "id": "4681163c",
   "metadata": {},
   "outputs": [
    {
     "data": {
      "text/html": [
       "<div>\n",
       "<style scoped>\n",
       "    .dataframe tbody tr th:only-of-type {\n",
       "        vertical-align: middle;\n",
       "    }\n",
       "\n",
       "    .dataframe tbody tr th {\n",
       "        vertical-align: top;\n",
       "    }\n",
       "\n",
       "    .dataframe thead th {\n",
       "        text-align: right;\n",
       "    }\n",
       "</style>\n",
       "<table border=\"1\" class=\"dataframe\">\n",
       "  <thead>\n",
       "    <tr style=\"text-align: right;\">\n",
       "      <th></th>\n",
       "      <th>survived</th>\n",
       "      <th>pclass</th>\n",
       "      <th>sex</th>\n",
       "      <th>age</th>\n",
       "      <th>sibsp</th>\n",
       "      <th>parch</th>\n",
       "      <th>fare</th>\n",
       "      <th>embarked</th>\n",
       "      <th>class</th>\n",
       "      <th>who</th>\n",
       "      <th>adult_male</th>\n",
       "      <th>deck</th>\n",
       "      <th>embark_town</th>\n",
       "      <th>alive</th>\n",
       "      <th>alone</th>\n",
       "    </tr>\n",
       "  </thead>\n",
       "  <tbody>\n",
       "    <tr>\n",
       "      <th>0</th>\n",
       "      <td>0</td>\n",
       "      <td>3</td>\n",
       "      <td>male</td>\n",
       "      <td>22.0</td>\n",
       "      <td>1</td>\n",
       "      <td>0</td>\n",
       "      <td>7.2500</td>\n",
       "      <td>S</td>\n",
       "      <td>Third</td>\n",
       "      <td>man</td>\n",
       "      <td>True</td>\n",
       "      <td>NaN</td>\n",
       "      <td>Southampton</td>\n",
       "      <td>no</td>\n",
       "      <td>False</td>\n",
       "    </tr>\n",
       "    <tr>\n",
       "      <th>1</th>\n",
       "      <td>1</td>\n",
       "      <td>1</td>\n",
       "      <td>female</td>\n",
       "      <td>38.0</td>\n",
       "      <td>1</td>\n",
       "      <td>0</td>\n",
       "      <td>71.2833</td>\n",
       "      <td>C</td>\n",
       "      <td>First</td>\n",
       "      <td>woman</td>\n",
       "      <td>False</td>\n",
       "      <td>C</td>\n",
       "      <td>Cherbourg</td>\n",
       "      <td>yes</td>\n",
       "      <td>False</td>\n",
       "    </tr>\n",
       "    <tr>\n",
       "      <th>2</th>\n",
       "      <td>1</td>\n",
       "      <td>3</td>\n",
       "      <td>female</td>\n",
       "      <td>26.0</td>\n",
       "      <td>0</td>\n",
       "      <td>0</td>\n",
       "      <td>7.9250</td>\n",
       "      <td>S</td>\n",
       "      <td>Third</td>\n",
       "      <td>woman</td>\n",
       "      <td>False</td>\n",
       "      <td>NaN</td>\n",
       "      <td>Southampton</td>\n",
       "      <td>yes</td>\n",
       "      <td>True</td>\n",
       "    </tr>\n",
       "    <tr>\n",
       "      <th>3</th>\n",
       "      <td>1</td>\n",
       "      <td>1</td>\n",
       "      <td>female</td>\n",
       "      <td>35.0</td>\n",
       "      <td>1</td>\n",
       "      <td>0</td>\n",
       "      <td>53.1000</td>\n",
       "      <td>S</td>\n",
       "      <td>First</td>\n",
       "      <td>woman</td>\n",
       "      <td>False</td>\n",
       "      <td>C</td>\n",
       "      <td>Southampton</td>\n",
       "      <td>yes</td>\n",
       "      <td>False</td>\n",
       "    </tr>\n",
       "    <tr>\n",
       "      <th>4</th>\n",
       "      <td>0</td>\n",
       "      <td>3</td>\n",
       "      <td>male</td>\n",
       "      <td>35.0</td>\n",
       "      <td>0</td>\n",
       "      <td>0</td>\n",
       "      <td>8.0500</td>\n",
       "      <td>S</td>\n",
       "      <td>Third</td>\n",
       "      <td>man</td>\n",
       "      <td>True</td>\n",
       "      <td>NaN</td>\n",
       "      <td>Southampton</td>\n",
       "      <td>no</td>\n",
       "      <td>True</td>\n",
       "    </tr>\n",
       "  </tbody>\n",
       "</table>\n",
       "</div>"
      ],
      "text/plain": [
       "   survived  pclass     sex   age  sibsp  parch     fare embarked  class    who  adult_male deck  embark_town alive  alone\n",
       "0         0       3    male  22.0      1      0   7.2500        S  Third    man        True  NaN  Southampton    no  False\n",
       "1         1       1  female  38.0      1      0  71.2833        C  First  woman       False    C    Cherbourg   yes  False\n",
       "2         1       3  female  26.0      0      0   7.9250        S  Third  woman       False  NaN  Southampton   yes   True\n",
       "3         1       1  female  35.0      1      0  53.1000        S  First  woman       False    C  Southampton   yes  False\n",
       "4         0       3    male  35.0      0      0   8.0500        S  Third    man        True  NaN  Southampton    no   True"
      ]
     },
     "execution_count": 28,
     "metadata": {},
     "output_type": "execute_result"
    }
   ],
   "source": [
    "df = sns.load_dataset(\"titanic\")\n",
    "df.head()"
   ]
  },
  {
   "cell_type": "code",
   "execution_count": 29,
   "id": "a02aaab8",
   "metadata": {},
   "outputs": [
    {
     "data": {
      "text/html": [
       "<div>\n",
       "<style scoped>\n",
       "    .dataframe tbody tr th:only-of-type {\n",
       "        vertical-align: middle;\n",
       "    }\n",
       "\n",
       "    .dataframe tbody tr th {\n",
       "        vertical-align: top;\n",
       "    }\n",
       "\n",
       "    .dataframe thead th {\n",
       "        text-align: right;\n",
       "    }\n",
       "</style>\n",
       "<table border=\"1\" class=\"dataframe\">\n",
       "  <thead>\n",
       "    <tr style=\"text-align: right;\">\n",
       "      <th></th>\n",
       "      <th>survived</th>\n",
       "    </tr>\n",
       "    <tr>\n",
       "      <th>sex</th>\n",
       "      <th></th>\n",
       "    </tr>\n",
       "  </thead>\n",
       "  <tbody>\n",
       "    <tr>\n",
       "      <th>female</th>\n",
       "      <td>0.742038</td>\n",
       "    </tr>\n",
       "    <tr>\n",
       "      <th>male</th>\n",
       "      <td>0.188908</td>\n",
       "    </tr>\n",
       "  </tbody>\n",
       "</table>\n",
       "</div>"
      ],
      "text/plain": [
       "        survived\n",
       "sex             \n",
       "female  0.742038\n",
       "male    0.188908"
      ]
     },
     "execution_count": 29,
     "metadata": {},
     "output_type": "execute_result"
    }
   ],
   "source": [
    "df.groupby(\"sex\").agg({\"survived\":\"mean\"})"
   ]
  },
  {
   "cell_type": "code",
   "execution_count": 30,
   "id": "621f6dd1",
   "metadata": {},
   "outputs": [
    {
     "data": {
      "text/html": [
       "<div>\n",
       "<style scoped>\n",
       "    .dataframe tbody tr th:only-of-type {\n",
       "        vertical-align: middle;\n",
       "    }\n",
       "\n",
       "    .dataframe tbody tr th {\n",
       "        vertical-align: top;\n",
       "    }\n",
       "\n",
       "    .dataframe thead th {\n",
       "        text-align: right;\n",
       "    }\n",
       "</style>\n",
       "<table border=\"1\" class=\"dataframe\">\n",
       "  <thead>\n",
       "    <tr style=\"text-align: right;\">\n",
       "      <th></th>\n",
       "      <th>survived</th>\n",
       "    </tr>\n",
       "    <tr>\n",
       "      <th>sex</th>\n",
       "      <th></th>\n",
       "    </tr>\n",
       "  </thead>\n",
       "  <tbody>\n",
       "    <tr>\n",
       "      <th>female</th>\n",
       "      <td>233</td>\n",
       "    </tr>\n",
       "    <tr>\n",
       "      <th>male</th>\n",
       "      <td>109</td>\n",
       "    </tr>\n",
       "  </tbody>\n",
       "</table>\n",
       "</div>"
      ],
      "text/plain": [
       "        survived\n",
       "sex             \n",
       "female       233\n",
       "male         109"
      ]
     },
     "execution_count": 30,
     "metadata": {},
     "output_type": "execute_result"
    }
   ],
   "source": [
    "df.groupby(\"sex\").agg({\"survived\":\"sum\"}) # the success rate"
   ]
  },
  {
   "cell_type": "code",
   "execution_count": 31,
   "id": "6d00b1bf",
   "metadata": {},
   "outputs": [
    {
     "data": {
      "text/html": [
       "<div>\n",
       "<style scoped>\n",
       "    .dataframe tbody tr th:only-of-type {\n",
       "        vertical-align: middle;\n",
       "    }\n",
       "\n",
       "    .dataframe tbody tr th {\n",
       "        vertical-align: top;\n",
       "    }\n",
       "\n",
       "    .dataframe thead th {\n",
       "        text-align: right;\n",
       "    }\n",
       "</style>\n",
       "<table border=\"1\" class=\"dataframe\">\n",
       "  <thead>\n",
       "    <tr style=\"text-align: right;\">\n",
       "      <th></th>\n",
       "      <th>survived</th>\n",
       "    </tr>\n",
       "    <tr>\n",
       "      <th>sex</th>\n",
       "      <th></th>\n",
       "    </tr>\n",
       "  </thead>\n",
       "  <tbody>\n",
       "    <tr>\n",
       "      <th>female</th>\n",
       "      <td>314</td>\n",
       "    </tr>\n",
       "    <tr>\n",
       "      <th>male</th>\n",
       "      <td>577</td>\n",
       "    </tr>\n",
       "  </tbody>\n",
       "</table>\n",
       "</div>"
      ],
      "text/plain": [
       "        survived\n",
       "sex             \n",
       "female       314\n",
       "male         577"
      ]
     },
     "execution_count": 31,
     "metadata": {},
     "output_type": "execute_result"
    }
   ],
   "source": [
    "df.groupby(\"sex\").agg({\"survived\":\"count\"}) # observation rate"
   ]
  },
  {
   "cell_type": "code",
   "execution_count": 32,
   "id": "46a58978",
   "metadata": {},
   "outputs": [],
   "source": [
    "female_count = df.loc[df[\"sex\"] == \"female\",\"survived\"].count()\n",
    "male_count = df.loc[df[\"sex\"] == \"male\",\"survived\"].count()\n",
    "\n",
    "succ_female = df[df[\"sex\"] == \"female\"][\"survived\"].sum()\n",
    "succ_male = df[df[\"sex\"] == \"male\"][\"survived\"].sum()"
   ]
  },
  {
   "cell_type": "code",
   "execution_count": 33,
   "id": "b78c00db",
   "metadata": {},
   "outputs": [
    {
     "name": "stdout",
     "output_type": "stream",
     "text": [
      "Test Stat = 16.2188, p-value = 0.0000\n"
     ]
    }
   ],
   "source": [
    "test_z, pvalue = proportions_ztest(count=[succ_female,succ_male],\n",
    "                                   nobs=[df.loc[df[\"sex\"] == \"female\",\"survived\"].shape[0],\n",
    "                                        df.loc[df[\"sex\"] == \"male\",\"survived\"].shape[0]])\n",
    "\n",
    "print(\"Test Stat = %.4f, p-value = %.4f\" %(test_z,pvalue)) "
   ]
  },
  {
   "cell_type": "markdown",
   "id": "e0afba6e",
   "metadata": {},
   "source": [
    "-----------------------------\n",
    "# Mean Comparison of More than Two Groups\n",
    "\n",
    "## ANOVA-Analysis of Variance"
   ]
  },
  {
   "cell_type": "code",
   "execution_count": 34,
   "id": "b07edd63",
   "metadata": {},
   "outputs": [
    {
     "data": {
      "text/html": [
       "<div>\n",
       "<style scoped>\n",
       "    .dataframe tbody tr th:only-of-type {\n",
       "        vertical-align: middle;\n",
       "    }\n",
       "\n",
       "    .dataframe tbody tr th {\n",
       "        vertical-align: top;\n",
       "    }\n",
       "\n",
       "    .dataframe thead th {\n",
       "        text-align: right;\n",
       "    }\n",
       "</style>\n",
       "<table border=\"1\" class=\"dataframe\">\n",
       "  <thead>\n",
       "    <tr style=\"text-align: right;\">\n",
       "      <th></th>\n",
       "      <th>total_bill</th>\n",
       "      <th>tip</th>\n",
       "      <th>sex</th>\n",
       "      <th>smoker</th>\n",
       "      <th>day</th>\n",
       "      <th>time</th>\n",
       "      <th>size</th>\n",
       "    </tr>\n",
       "  </thead>\n",
       "  <tbody>\n",
       "    <tr>\n",
       "      <th>0</th>\n",
       "      <td>16.99</td>\n",
       "      <td>1.01</td>\n",
       "      <td>Female</td>\n",
       "      <td>No</td>\n",
       "      <td>Sun</td>\n",
       "      <td>Dinner</td>\n",
       "      <td>2</td>\n",
       "    </tr>\n",
       "    <tr>\n",
       "      <th>1</th>\n",
       "      <td>10.34</td>\n",
       "      <td>1.66</td>\n",
       "      <td>Male</td>\n",
       "      <td>No</td>\n",
       "      <td>Sun</td>\n",
       "      <td>Dinner</td>\n",
       "      <td>3</td>\n",
       "    </tr>\n",
       "    <tr>\n",
       "      <th>2</th>\n",
       "      <td>21.01</td>\n",
       "      <td>3.50</td>\n",
       "      <td>Male</td>\n",
       "      <td>No</td>\n",
       "      <td>Sun</td>\n",
       "      <td>Dinner</td>\n",
       "      <td>3</td>\n",
       "    </tr>\n",
       "    <tr>\n",
       "      <th>3</th>\n",
       "      <td>23.68</td>\n",
       "      <td>3.31</td>\n",
       "      <td>Male</td>\n",
       "      <td>No</td>\n",
       "      <td>Sun</td>\n",
       "      <td>Dinner</td>\n",
       "      <td>2</td>\n",
       "    </tr>\n",
       "    <tr>\n",
       "      <th>4</th>\n",
       "      <td>24.59</td>\n",
       "      <td>3.61</td>\n",
       "      <td>Female</td>\n",
       "      <td>No</td>\n",
       "      <td>Sun</td>\n",
       "      <td>Dinner</td>\n",
       "      <td>4</td>\n",
       "    </tr>\n",
       "  </tbody>\n",
       "</table>\n",
       "</div>"
      ],
      "text/plain": [
       "   total_bill   tip     sex smoker  day    time  size\n",
       "0       16.99  1.01  Female     No  Sun  Dinner     2\n",
       "1       10.34  1.66    Male     No  Sun  Dinner     3\n",
       "2       21.01  3.50    Male     No  Sun  Dinner     3\n",
       "3       23.68  3.31    Male     No  Sun  Dinner     2\n",
       "4       24.59  3.61  Female     No  Sun  Dinner     4"
      ]
     },
     "execution_count": 34,
     "metadata": {},
     "output_type": "execute_result"
    }
   ],
   "source": [
    "data_tips = sns.load_dataset(\"tips\")\n",
    "data_tips.head()"
   ]
  },
  {
   "cell_type": "code",
   "execution_count": 35,
   "id": "ada6bbd3",
   "metadata": {},
   "outputs": [
    {
     "data": {
      "text/html": [
       "<div>\n",
       "<style scoped>\n",
       "    .dataframe tbody tr th:only-of-type {\n",
       "        vertical-align: middle;\n",
       "    }\n",
       "\n",
       "    .dataframe tbody tr th {\n",
       "        vertical-align: top;\n",
       "    }\n",
       "\n",
       "    .dataframe thead th {\n",
       "        text-align: right;\n",
       "    }\n",
       "</style>\n",
       "<table border=\"1\" class=\"dataframe\">\n",
       "  <thead>\n",
       "    <tr style=\"text-align: right;\">\n",
       "      <th></th>\n",
       "      <th>total_bill</th>\n",
       "    </tr>\n",
       "    <tr>\n",
       "      <th>day</th>\n",
       "      <th></th>\n",
       "    </tr>\n",
       "  </thead>\n",
       "  <tbody>\n",
       "    <tr>\n",
       "      <th>Thur</th>\n",
       "      <td>17.682742</td>\n",
       "    </tr>\n",
       "    <tr>\n",
       "      <th>Fri</th>\n",
       "      <td>17.151579</td>\n",
       "    </tr>\n",
       "    <tr>\n",
       "      <th>Sat</th>\n",
       "      <td>20.441379</td>\n",
       "    </tr>\n",
       "    <tr>\n",
       "      <th>Sun</th>\n",
       "      <td>21.410000</td>\n",
       "    </tr>\n",
       "  </tbody>\n",
       "</table>\n",
       "</div>"
      ],
      "text/plain": [
       "      total_bill\n",
       "day             \n",
       "Thur   17.682742\n",
       "Fri    17.151579\n",
       "Sat    20.441379\n",
       "Sun    21.410000"
      ]
     },
     "execution_count": 35,
     "metadata": {},
     "output_type": "execute_result"
    }
   ],
   "source": [
    "data_tips.groupby(\"day\").agg({\"total_bill\":\"mean\"})"
   ]
  },
  {
   "cell_type": "markdown",
   "id": "1710f848",
   "metadata": {},
   "source": [
    "Hypothesis:\n",
    "    \n",
    "H0 : m1 = m2 = m3 = m4"
   ]
  },
  {
   "cell_type": "markdown",
   "id": "59f0e831",
   "metadata": {},
   "source": [
    "### Normality Assumption and Variance Homogeneity\n",
    "\n",
    "One-way ANOVA if assumption is met, Kruskal if not"
   ]
  },
  {
   "cell_type": "code",
   "execution_count": 38,
   "id": "c8174e1c",
   "metadata": {},
   "outputs": [
    {
     "name": "stdout",
     "output_type": "stream",
     "text": [
      "p-value:0.000\n"
     ]
    }
   ],
   "source": [
    "pvalue = shapiro(data_tips[\"total_bill\"])[1]\n",
    "print(\"p-value:%.3f\" % pvalue)"
   ]
  },
  {
   "cell_type": "code",
   "execution_count": 39,
   "id": "4009850b",
   "metadata": {},
   "outputs": [
    {
     "name": "stdout",
     "output_type": "stream",
     "text": [
      "Sun p-value:0.0036\n",
      "Sat p-value:0.0000\n",
      "Thur p-value:0.0000\n",
      "Fri p-value:0.0409\n"
     ]
    }
   ],
   "source": [
    "# normality assumption check\n",
    "\n",
    "for group in list(data_tips[\"day\"].unique()):\n",
    "    pvalue = shapiro(data_tips.loc[data_tips[\"day\"] == group, \"total_bill\"])[1]\n",
    "    print(group,\"p-value:%.4f\" % pvalue)"
   ]
  },
  {
   "cell_type": "markdown",
   "id": "acf0fdc3",
   "metadata": {},
   "source": [
    "no assumption of normality is provided for any of them since their p-value is less than 0.05. "
   ]
  },
  {
   "cell_type": "code",
   "execution_count": 40,
   "id": "e4e60cf8",
   "metadata": {},
   "outputs": [
    {
     "name": "stdout",
     "output_type": "stream",
     "text": [
      "Test Stat = 0.6654, p-value = 0.5741\n"
     ]
    }
   ],
   "source": [
    "# Variance homogeneity check\n",
    "test_stat, p_val = levene(data_tips.loc[data_tips[\"day\"] == \"Sun\", \"total_bill\"],\n",
    "                         data_tips.loc[data_tips[\"day\"] == \"Sat\", \"total_bill\"],\n",
    "                         data_tips.loc[data_tips[\"day\"] == \"Fri\", \"total_bill\"],\n",
    "                         data_tips.loc[data_tips[\"day\"] == \"Thur\", \"total_bill\"])\n",
    "\n",
    "print(\"Test Stat = %.4f, p-value = %.4f\" %(test_stat,p_val)) "
   ]
  },
  {
   "cell_type": "code",
   "execution_count": 41,
   "id": "41dd4243",
   "metadata": {},
   "outputs": [
    {
     "data": {
      "text/html": [
       "<div>\n",
       "<style scoped>\n",
       "    .dataframe tbody tr th:only-of-type {\n",
       "        vertical-align: middle;\n",
       "    }\n",
       "\n",
       "    .dataframe tbody tr th {\n",
       "        vertical-align: top;\n",
       "    }\n",
       "\n",
       "    .dataframe thead tr th {\n",
       "        text-align: left;\n",
       "    }\n",
       "\n",
       "    .dataframe thead tr:last-of-type th {\n",
       "        text-align: right;\n",
       "    }\n",
       "</style>\n",
       "<table border=\"1\" class=\"dataframe\">\n",
       "  <thead>\n",
       "    <tr>\n",
       "      <th></th>\n",
       "      <th colspan=\"2\" halign=\"left\">total_bill</th>\n",
       "    </tr>\n",
       "    <tr>\n",
       "      <th></th>\n",
       "      <th>mean</th>\n",
       "      <th>median</th>\n",
       "    </tr>\n",
       "    <tr>\n",
       "      <th>day</th>\n",
       "      <th></th>\n",
       "      <th></th>\n",
       "    </tr>\n",
       "  </thead>\n",
       "  <tbody>\n",
       "    <tr>\n",
       "      <th>Thur</th>\n",
       "      <td>17.682742</td>\n",
       "      <td>16.20</td>\n",
       "    </tr>\n",
       "    <tr>\n",
       "      <th>Fri</th>\n",
       "      <td>17.151579</td>\n",
       "      <td>15.38</td>\n",
       "    </tr>\n",
       "    <tr>\n",
       "      <th>Sat</th>\n",
       "      <td>20.441379</td>\n",
       "      <td>18.24</td>\n",
       "    </tr>\n",
       "    <tr>\n",
       "      <th>Sun</th>\n",
       "      <td>21.410000</td>\n",
       "      <td>19.63</td>\n",
       "    </tr>\n",
       "  </tbody>\n",
       "</table>\n",
       "</div>"
      ],
      "text/plain": [
       "     total_bill       \n",
       "           mean median\n",
       "day                   \n",
       "Thur  17.682742  16.20\n",
       "Fri   17.151579  15.38\n",
       "Sat   20.441379  18.24\n",
       "Sun   21.410000  19.63"
      ]
     },
     "execution_count": 41,
     "metadata": {},
     "output_type": "execute_result"
    }
   ],
   "source": [
    "data_tips.groupby(\"day\").agg({\"total_bill\":[\"mean\",\"median\"]})"
   ]
  },
  {
   "cell_type": "code",
   "execution_count": 42,
   "id": "fea71f0a",
   "metadata": {},
   "outputs": [
    {
     "name": "stdout",
     "output_type": "stream",
     "text": [
      "Kruskal Test Statistic Result = 10.4031, p-value = 0.0154\n"
     ]
    }
   ],
   "source": [
    "# non-parametric anova test\n",
    "kruskal_statistic, kruskal_pvalue = kruskal(data_tips.loc[data_tips[\"day\"] == \"Sun\", \"total_bill\"],\n",
    "                         data_tips.loc[data_tips[\"day\"] == \"Sat\", \"total_bill\"],\n",
    "                         data_tips.loc[data_tips[\"day\"] == \"Fri\", \"total_bill\"],\n",
    "                         data_tips.loc[data_tips[\"day\"] == \"Thur\", \"total_bill\"])\n",
    "\n",
    "print(\"Kruskal Test Statistic Result = %.4f, p-value = %.4f\" %(kruskal_statistic,kruskal_pvalue)) "
   ]
  },
  {
   "cell_type": "code",
   "execution_count": 43,
   "id": "9223f87a",
   "metadata": {},
   "outputs": [
    {
     "data": {
      "text/html": [
       "<table class=\"simpletable\">\n",
       "<caption>Multiple Comparison of Means - Tukey HSD, FWER=0.05</caption>\n",
       "<tr>\n",
       "  <th>group1</th> <th>group2</th> <th>meandiff</th>  <th>p-adj</th>  <th>lower</th>   <th>upper</th>  <th>reject</th>\n",
       "</tr>\n",
       "<tr>\n",
       "    <td>Fri</td>    <td>Sat</td>   <td>3.2898</td>  <td>0.4541</td> <td>-2.4799</td> <td>9.0595</td>   <td>False</td>\n",
       "</tr>\n",
       "<tr>\n",
       "    <td>Fri</td>    <td>Sun</td>   <td>4.2584</td>  <td>0.2371</td> <td>-1.5856</td> <td>10.1025</td>  <td>False</td>\n",
       "</tr>\n",
       "<tr>\n",
       "    <td>Fri</td>   <td>Thur</td>   <td>0.5312</td>  <td>0.9957</td> <td>-5.4434</td> <td>6.5057</td>   <td>False</td>\n",
       "</tr>\n",
       "<tr>\n",
       "    <td>Sat</td>    <td>Sun</td>   <td>0.9686</td>  <td>0.8968</td> <td>-2.6088</td>  <td>4.546</td>   <td>False</td>\n",
       "</tr>\n",
       "<tr>\n",
       "    <td>Sat</td>   <td>Thur</td>   <td>-2.7586</td> <td>0.2374</td> <td>-6.5455</td> <td>1.0282</td>   <td>False</td>\n",
       "</tr>\n",
       "<tr>\n",
       "    <td>Sun</td>   <td>Thur</td>   <td>-3.7273</td> <td>0.0668</td> <td>-7.6264</td> <td>0.1719</td>   <td>False</td>\n",
       "</tr>\n",
       "</table>"
      ],
      "text/plain": [
       "<class 'statsmodels.iolib.table.SimpleTable'>"
      ]
     },
     "execution_count": 43,
     "metadata": {},
     "output_type": "execute_result"
    }
   ],
   "source": [
    "from statsmodels.stats.multicomp import MultiComparison\n",
    "\n",
    "comparison = MultiComparison(data_tips[\"total_bill\"],data_tips[\"day\"])\n",
    "tukey = comparison.tukeyhsd(0.05)\n",
    "tukey.summary()"
   ]
  },
  {
   "cell_type": "code",
   "execution_count": 44,
   "id": "0c7b6e4a",
   "metadata": {},
   "outputs": [
    {
     "data": {
      "text/html": [
       "<table class=\"simpletable\">\n",
       "<caption>Multiple Comparison of Means - Tukey HSD, FWER=0.10</caption>\n",
       "<tr>\n",
       "  <th>group1</th> <th>group2</th> <th>meandiff</th>  <th>p-adj</th>  <th>lower</th>   <th>upper</th> <th>reject</th>\n",
       "</tr>\n",
       "<tr>\n",
       "    <td>Fri</td>    <td>Sat</td>   <td>3.2898</td>  <td>0.4541</td> <td>-1.8481</td> <td>8.4277</td>  <td>False</td>\n",
       "</tr>\n",
       "<tr>\n",
       "    <td>Fri</td>    <td>Sun</td>   <td>4.2584</td>  <td>0.2371</td> <td>-0.9457</td> <td>9.4626</td>  <td>False</td>\n",
       "</tr>\n",
       "<tr>\n",
       "    <td>Fri</td>   <td>Thur</td>   <td>0.5312</td>  <td>0.9957</td> <td>-4.7892</td> <td>5.8515</td>  <td>False</td>\n",
       "</tr>\n",
       "<tr>\n",
       "    <td>Sat</td>    <td>Sun</td>   <td>0.9686</td>  <td>0.8968</td> <td>-2.217</td>  <td>4.1543</td>  <td>False</td>\n",
       "</tr>\n",
       "<tr>\n",
       "    <td>Sat</td>   <td>Thur</td>   <td>-2.7586</td> <td>0.2374</td> <td>-6.1308</td> <td>0.6135</td>  <td>False</td>\n",
       "</tr>\n",
       "<tr>\n",
       "    <td>Sun</td>   <td>Thur</td>   <td>-3.7273</td> <td>0.0668</td> <td>-7.1995</td> <td>-0.255</td>  <td>True</td> \n",
       "</tr>\n",
       "</table>"
      ],
      "text/plain": [
       "<class 'statsmodels.iolib.table.SimpleTable'>"
      ]
     },
     "execution_count": 44,
     "metadata": {},
     "output_type": "execute_result"
    }
   ],
   "source": [
    "tukey10 = comparison.tukeyhsd(0.10)\n",
    "tukey10.summary()"
   ]
  }
 ],
 "metadata": {
  "kernelspec": {
   "display_name": "Python 3 (ipykernel)",
   "language": "python",
   "name": "python3"
  },
  "language_info": {
   "codemirror_mode": {
    "name": "ipython",
    "version": 3
   },
   "file_extension": ".py",
   "mimetype": "text/x-python",
   "name": "python",
   "nbconvert_exporter": "python",
   "pygments_lexer": "ipython3",
   "version": "3.9.13"
  }
 },
 "nbformat": 4,
 "nbformat_minor": 5
}
