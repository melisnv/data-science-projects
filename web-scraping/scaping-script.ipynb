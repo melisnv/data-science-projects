{
 "cells": [
  {
   "cell_type": "code",
   "execution_count": 38,
   "metadata": {},
   "outputs": [],
   "source": [
    "from bs4 import BeautifulSoup\n",
    "import requests\n",
    "import pandas as pd"
   ]
  },
  {
   "cell_type": "code",
   "execution_count": 39,
   "metadata": {},
   "outputs": [
    {
     "data": {
      "text/plain": [
       "['Company',\n",
       " 'Industry',\n",
       " 'Country',\n",
       " 'Year',\n",
       " 'Report date',\n",
       " 'Earnings (billion)',\n",
       " 'Earnings converted to USD and inflation adjusted (billion)']"
      ]
     },
     "execution_count": 39,
     "metadata": {},
     "output_type": "execute_result"
    }
   ],
   "source": [
    "url = \"https://en.wikipedia.org/wiki/List_of_largest_corporate_profits_and_losses\"\n",
    "page = requests.get(url)\n",
    "\n",
    "soup = BeautifulSoup(page.text, 'html')\n",
    "\n",
    "# soup.find_all('table')[0]\n",
    "table = soup.find('table', class_ = 'wikitable sortable')\n",
    "titles = table.find_all('th')\n",
    "\n",
    "table_titles = [title.text.strip() for title in titles]\n",
    "table_titles = table_titles[1:]\n",
    "table_titles"
   ]
  },
  {
   "cell_type": "code",
   "execution_count": 40,
   "metadata": {},
   "outputs": [],
   "source": [
    "#count = 0\n",
    "#for title in word_titles:\n",
    "#    stripped_title = title.text.strip()\n",
    "#    if stripped_title and not stripped_title.startswith('#'):\n",
    "#        print(stripped_title)\n",
    "#        count += 1\n",
    "#\n",
    "#        if count == 7:\n",
    "#            break"
   ]
  },
  {
   "cell_type": "code",
   "execution_count": 43,
   "metadata": {},
   "outputs": [
    {
     "name": "stdout",
     "output_type": "stream",
     "text": [
      "[]\n",
      "['1', 'Saudi Aramco', 'Oil and gas', 'Saudi Arabia', '2018', '31 December 2018', 'SAR 416.52[5]', '$129.44']\n",
      "['2', 'Saudi Aramco', 'Oil and gas', 'Saudi Arabia', '2021', '31 December 2021', 'SAR 412.4[6]', '$124.35']\n",
      "['3', 'Vodafone', 'Telecommunications', 'United Kingdom', '2014', '31 March 2014', '£59.42[3]', '$122.2']\n",
      "['4', 'Fannie Mae', 'Financial services', 'United States', '2013', '31 December 2013', '$83.98[4]', '$105.51']\n",
      "['5', 'Apple', 'Consumer electronics', 'United States', '2022', '29 September 2022', '$99.803', '$107.78']\n",
      "['5', 'Apple', 'Consumer electronics', 'United States', '2021', '29 September 2021', '$94.68[7]', '$102.25']\n",
      "['6', 'Saudi Aramco', 'Oil and gas', 'Saudi Arabia', '2019', '31 December 2019', 'SAR 330.7[8]', '$100.94']\n",
      "['7', 'Berkshire Hathaway', 'Conglomerate', 'United States', '2021', '31 December 2021', '$89.8[9]', '$96.97']\n",
      "['8', 'Berkshire Hathaway', 'Conglomerate', 'United States', '2019', '31 December 2019', '$81.4[10]', '$93.19']\n",
      "['9', 'Saudi Aramco', 'Oil and gas', 'Saudi Arabia', '2017', '31 December 2017', 'SAR 284.62[5]', '$90.55']\n",
      "['10', 'Alphabet', 'Information technology', 'United States', '2021', '31 December 2021', '$76.0[11]', '$82.11']\n",
      "['11', 'Apple', 'Consumer electronics', 'United States', '2018', '30 September 2018', '$59.53[12]', '$69.38']\n",
      "['12', 'Microsoft', 'Information technology', 'United States', '2021', '30 June 2021', '$61.27[13]', '$66.17']\n",
      "['13', 'Apple', 'Consumer electronics', 'United States', '2015', '26 September 2015', '$53.4[14][15]', '$65.93']\n",
      "['14', 'Apple', 'Consumer electronics', 'United States', '2020', '26 September 2020', '$57.4[16]', '$64.91']\n",
      "['15', 'Apple', 'Consumer electronics', 'United States', '2019', '30 September 2019', '$55.26[17]', '$63.25']\n",
      "['16', 'ExxonMobil', 'Oil and gas', 'United States', '2008', '31 December 2008', '$45.22[18]', '$61.46']\n",
      "['17', 'Industrial & Commercial Bank of China', 'Banking', 'China', '2021', '31 December 2021', 'RMB 350.216[19]', '$58.35']\n",
      "['18', 'Industrial & Commercial Bank of China', 'Banking', 'China', '2020', '31 December 2020', 'RMB 317.685[20]', '$58.11']\n",
      "['19', 'Apple', 'Consumer electronics', 'United States', '2017', '30 September 2017', '$48.35[21]', '$57.72']\n",
      "['20', 'ExxonMobil', 'Oil and gas', 'United States', '2006', '31 December 2006', '$39.5[18]', '$57.34']\n",
      "['21', 'ExxonMobil', 'Oil and gas', 'United States', '2007', '31 December 2007', '$40.61[18]', '$57.31']\n",
      "['22', 'ExxonMobil', 'Oil and gas', 'United States', '2012', '31 December 2012', '$44.88[22]', '$57.21']\n",
      "['23', 'Apple', 'Consumer electronics', 'United States', '2016', '24 September 2016', '$45.7[23]', '$55.72']\n",
      "['24', 'Saudi Aramco', 'Oil and gas', 'Saudi Arabia', '2020', '31 December 2020', 'SAR 183.8[8]', '$55.41']\n",
      "['25', 'Industrial & Commercial Bank of China', 'Banking', 'China', '2014', '31 December 2014', 'RMB 276.286[24]', '$55.5']\n",
      "['26', 'ExxonMobil', 'Oil and gas', 'United States', '2005', '31 December 2005', '$36.13[25]', '$54.14']\n",
      "['27', 'Industrial & Commercial Bank of China', 'Banking', 'China', '2013', '31 December 2013', 'RMB 262.7', '$53.98']\n",
      "['28', 'Berkshire Hathaway', 'Conglomerate', 'United States', '2017', '31 December 2017', '$44.9[10]', '$53.65']\n",
      "['29', 'ExxonMobil', 'Oil and gas', 'United States', '2011', '31 December 2011', '$41.06[26]', '$53.41']\n",
      "['30', 'Apple', 'Consumer electronics', 'United States', '2012', '29 September 2012', '$41.73[27]', '$53.19']\n",
      "['31', 'Industrial & Commercial Bank of China', 'Banking', 'China', '2015', '31 December 2015', 'RMB 277.720[24]', '$52.82']\n",
      "['32', 'Industrial & Commercial Bank of China', 'Banking', 'China', '2017', '31 December 2017', 'RMB 287.451[28]', '$52.7']\n",
      "['33', 'JPMorgan Chase', 'Banking', 'United States', '2021', '31 December 2021', '$48.33[29]', '$52.2']\n",
      "['34', 'Industrial & Commercial Bank of China', 'Banking', 'China', '2019', '31 December 2019', 'RMB 313.361[20]', '$51.32']\n",
      "['35', 'Gazprom', 'Oil and gas', 'Russia', '2012', '31 December 2012', 'RUB 1,224.5', '$51.2']\n",
      "['36', 'Nestlé', 'Food processing', 'Switzerland', '2010', '31 December 2010', '$37.88[30]', '$50.83']\n",
      "['37', 'China Construction Bank', 'Banking', 'China', '2021', '31 December 2021', 'RMB 303.928[31]', '$50.64']\n",
      "['38', 'Industrial & Commercial Bank of China', 'Banking', 'China', '2018', '31 December 2018', 'RMB 298.723[28]', '$50.58']\n",
      "['39', 'Microsoft', 'Information technology', 'United States', '2020', '30 June 2020', '$44.28[32]', '$50.07']\n",
      "['40', 'Industrial & Commercial Bank of China', 'Banking', 'China', '2016', '31 December 2016', 'RMB 279.106[28]', '$48.97']\n",
      "['41', 'Apple', 'Consumer electronics', 'United States', '2014', '27 September 2014', '$39.51[33]', '$48.84']\n",
      "['42', 'Berkshire Hathaway', 'Conglomerate', 'United States', '2020', '31 December 2020', '$42.5[10]', '$48.08']\n",
      "['43', 'Industrial & Commercial Bank of China', 'Banking', 'China', '2012', '31 December 2012', 'RMB 238.7[34]', '$48.17']\n",
      "['44', 'Apple', 'Consumer electronics', 'United States', '2013', '29 September 2013', '$37.04', '$46.53']\n",
      "['45', 'China Construction Bank', 'Banking', 'China', '2014', '31 December 2014', 'RMB 228.247[35]', '$45.85']\n",
      "['46', 'Alphabet', 'Information technology', 'United States', '2020', '31 December 2020', '$40.7[11]', '$45.53']\n",
      "['47', 'China Construction Bank', 'Banking', 'China', '2020', '31 December 2020', 'RMB 273.579[31]', '$44.44']\n",
      "['48', 'China Construction Bank', 'Banking', 'China', '2019', '31 December 2019', 'RMB 255.63[31]', '$44.53']\n",
      "['49', 'Microsoft', 'Information technology', 'United States', '2019', '30 June 2019', '$39.24[32]', '$44.92']\n",
      "['50', 'China Construction Bank', 'Banking', 'China', '2017', '31 December 2017', 'RMB 243.615[36]', '$44.66']\n",
      "['51', 'Royal Dutch Shell', 'Oil and gas', 'Netherlands \\xa0UK', '2007', '31 December 2007', '$31.33[37]', '$44.22']\n",
      "['52', 'China Construction Bank', 'Banking', 'China', '2013', '31 December 2013', 'RMB 214.65', '$44.11']\n",
      "['53', 'Gazprom', 'Oil and gas', 'Russia', '2013', '31 December 2013', 'RUB 1,139.2', '$43.63']\n",
      "['54', 'China Construction Bank', 'Banking', 'China', '2015', '31 December 2015', 'RMB 228.886[35]', '$43.54']\n",
      "['55', 'China Construction Bank', 'Banking', 'China', '2018', '31 December 2018', 'RMB 255.626[36]', '$43.31']\n"
     ]
    }
   ],
   "source": [
    "column_data = table.find_all('tr')\n",
    "\n",
    "for row in column_data:\n",
    "    row_data = row.find_all('td')\n",
    "\n",
    "    indv_row_data = [data.text.strip() for data in row_data]\n",
    "    print(indv_row_data)"
   ]
  },
  {
   "cell_type": "code",
   "execution_count": null,
   "metadata": {},
   "outputs": [],
   "source": []
  },
  {
   "cell_type": "code",
   "execution_count": null,
   "metadata": {},
   "outputs": [],
   "source": [
    "df = pd.DataFrame(columns=table_titles)"
   ]
  }
 ],
 "metadata": {
  "kernelspec": {
   "display_name": "Python 3",
   "language": "python",
   "name": "python3"
  },
  "language_info": {
   "codemirror_mode": {
    "name": "ipython",
    "version": 3
   },
   "file_extension": ".py",
   "mimetype": "text/x-python",
   "name": "python",
   "nbconvert_exporter": "python",
   "pygments_lexer": "ipython3",
   "version": "3.8.16"
  }
 },
 "nbformat": 4,
 "nbformat_minor": 2
}
