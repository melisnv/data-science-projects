{
 "cells": [
  {
   "cell_type": "code",
   "execution_count": 146,
   "metadata": {},
   "outputs": [],
   "source": [
    "import pandas as pd\n",
    "from glob import glob\n"
   ]
  },
  {
   "cell_type": "code",
   "execution_count": 147,
   "metadata": {},
   "outputs": [
    {
     "data": {
      "text/html": [
       "<div>\n",
       "<style scoped>\n",
       "    .dataframe tbody tr th:only-of-type {\n",
       "        vertical-align: middle;\n",
       "    }\n",
       "\n",
       "    .dataframe tbody tr th {\n",
       "        vertical-align: top;\n",
       "    }\n",
       "\n",
       "    .dataframe thead th {\n",
       "        text-align: right;\n",
       "    }\n",
       "</style>\n",
       "<table border=\"1\" class=\"dataframe\">\n",
       "  <thead>\n",
       "    <tr style=\"text-align: right;\">\n",
       "      <th></th>\n",
       "      <th>epoch (ms)</th>\n",
       "      <th>time (01:00)</th>\n",
       "      <th>elapsed (s)</th>\n",
       "      <th>x-axis (g)</th>\n",
       "      <th>y-axis (g)</th>\n",
       "      <th>z-axis (g)</th>\n",
       "    </tr>\n",
       "  </thead>\n",
       "  <tbody>\n",
       "    <tr>\n",
       "      <th>0</th>\n",
       "      <td>1547219408431</td>\n",
       "      <td>2019-01-11T16:10:08.431</td>\n",
       "      <td>0.00</td>\n",
       "      <td>0.010</td>\n",
       "      <td>0.964</td>\n",
       "      <td>-0.087</td>\n",
       "    </tr>\n",
       "    <tr>\n",
       "      <th>1</th>\n",
       "      <td>1547219408511</td>\n",
       "      <td>2019-01-11T16:10:08.511</td>\n",
       "      <td>0.08</td>\n",
       "      <td>0.000</td>\n",
       "      <td>0.961</td>\n",
       "      <td>-0.069</td>\n",
       "    </tr>\n",
       "    <tr>\n",
       "      <th>2</th>\n",
       "      <td>1547219408591</td>\n",
       "      <td>2019-01-11T16:10:08.591</td>\n",
       "      <td>0.16</td>\n",
       "      <td>0.001</td>\n",
       "      <td>0.974</td>\n",
       "      <td>-0.087</td>\n",
       "    </tr>\n",
       "    <tr>\n",
       "      <th>3</th>\n",
       "      <td>1547219408671</td>\n",
       "      <td>2019-01-11T16:10:08.671</td>\n",
       "      <td>0.24</td>\n",
       "      <td>-0.012</td>\n",
       "      <td>0.971</td>\n",
       "      <td>-0.084</td>\n",
       "    </tr>\n",
       "    <tr>\n",
       "      <th>4</th>\n",
       "      <td>1547219408751</td>\n",
       "      <td>2019-01-11T16:10:08.751</td>\n",
       "      <td>0.32</td>\n",
       "      <td>-0.013</td>\n",
       "      <td>0.954</td>\n",
       "      <td>-0.094</td>\n",
       "    </tr>\n",
       "    <tr>\n",
       "      <th>5</th>\n",
       "      <td>1547219408831</td>\n",
       "      <td>2019-01-11T16:10:08.831</td>\n",
       "      <td>0.40</td>\n",
       "      <td>-0.017</td>\n",
       "      <td>0.902</td>\n",
       "      <td>-0.108</td>\n",
       "    </tr>\n",
       "    <tr>\n",
       "      <th>6</th>\n",
       "      <td>1547219408911</td>\n",
       "      <td>2019-01-11T16:10:08.911</td>\n",
       "      <td>0.48</td>\n",
       "      <td>-0.025</td>\n",
       "      <td>0.855</td>\n",
       "      <td>-0.128</td>\n",
       "    </tr>\n",
       "    <tr>\n",
       "      <th>7</th>\n",
       "      <td>1547219408991</td>\n",
       "      <td>2019-01-11T16:10:08.991</td>\n",
       "      <td>0.56</td>\n",
       "      <td>-0.042</td>\n",
       "      <td>0.844</td>\n",
       "      <td>-0.139</td>\n",
       "    </tr>\n",
       "    <tr>\n",
       "      <th>8</th>\n",
       "      <td>1547219409071</td>\n",
       "      <td>2019-01-11T16:10:09.071</td>\n",
       "      <td>0.64</td>\n",
       "      <td>-0.049</td>\n",
       "      <td>0.875</td>\n",
       "      <td>-0.171</td>\n",
       "    </tr>\n",
       "    <tr>\n",
       "      <th>9</th>\n",
       "      <td>1547219409151</td>\n",
       "      <td>2019-01-11T16:10:09.151</td>\n",
       "      <td>0.72</td>\n",
       "      <td>-0.075</td>\n",
       "      <td>0.871</td>\n",
       "      <td>-0.139</td>\n",
       "    </tr>\n",
       "  </tbody>\n",
       "</table>\n",
       "</div>"
      ],
      "text/plain": [
       "      epoch (ms)             time (01:00)  elapsed (s)  x-axis (g)  \\\n",
       "0  1547219408431  2019-01-11T16:10:08.431         0.00       0.010   \n",
       "1  1547219408511  2019-01-11T16:10:08.511         0.08       0.000   \n",
       "2  1547219408591  2019-01-11T16:10:08.591         0.16       0.001   \n",
       "3  1547219408671  2019-01-11T16:10:08.671         0.24      -0.012   \n",
       "4  1547219408751  2019-01-11T16:10:08.751         0.32      -0.013   \n",
       "5  1547219408831  2019-01-11T16:10:08.831         0.40      -0.017   \n",
       "6  1547219408911  2019-01-11T16:10:08.911         0.48      -0.025   \n",
       "7  1547219408991  2019-01-11T16:10:08.991         0.56      -0.042   \n",
       "8  1547219409071  2019-01-11T16:10:09.071         0.64      -0.049   \n",
       "9  1547219409151  2019-01-11T16:10:09.151         0.72      -0.075   \n",
       "\n",
       "   y-axis (g)  z-axis (g)  \n",
       "0       0.964      -0.087  \n",
       "1       0.961      -0.069  \n",
       "2       0.974      -0.087  \n",
       "3       0.971      -0.084  \n",
       "4       0.954      -0.094  \n",
       "5       0.902      -0.108  \n",
       "6       0.855      -0.128  \n",
       "7       0.844      -0.139  \n",
       "8       0.875      -0.171  \n",
       "9       0.871      -0.139  "
      ]
     },
     "execution_count": 147,
     "metadata": {},
     "output_type": "execute_result"
    }
   ],
   "source": [
    "data = pd.read_csv(\"../data/raw/MetaMotion/A-bench-heavy2-rpe8_MetaWear_2019-01-11T16.10.08.270_C42732BE255C_Accelerometer_12.500Hz_1.4.4.csv\")\n",
    "data.head(10)"
   ]
  },
  {
   "cell_type": "code",
   "execution_count": 148,
   "metadata": {},
   "outputs": [],
   "source": [
    "files = glob(\"../../data/raw/MetaMotion/*.csv\")\n",
    "\n",
    "data_path = \"../../data/raw/MetaMotion\\\\\"\n",
    "f = files[0]"
   ]
  },
  {
   "cell_type": "code",
   "execution_count": 149,
   "metadata": {},
   "outputs": [],
   "source": [
    "participant = f.split(\"-\")[0].replace(data_path,\"\")\n",
    "label = f.split(\"-\")[1]\n",
    "category = f.split(\"-\")[2].rstrip(\"123\")"
   ]
  },
  {
   "cell_type": "code",
   "execution_count": 150,
   "metadata": {},
   "outputs": [],
   "source": [
    "df = pd.read_csv(f)\n",
    "df[\"participant\"] = participant\n",
    "df[\"label\"] = label\n",
    "df[\"category\"] = category\n"
   ]
  },
  {
   "cell_type": "code",
   "execution_count": 151,
   "metadata": {},
   "outputs": [],
   "source": [
    "acc_df = pd.DataFrame()\n",
    "gyr_df = pd.DataFrame()\n",
    "\n",
    "acc_set = 1\n",
    "gyr_set = 1\n",
    "\n",
    "for f in files:\n",
    "    participant = f.split(\"-\")[0].replace(data_path,\"\")\n",
    "    label = f.split(\"-\")[1]\n",
    "    category = f.split(\"-\")[2].rstrip(\"123\").rstrip(\"_MetaWear_2019\")\n",
    "    \n",
    "    df = pd.read_csv(f)\n",
    "    df[\"participant\"] = participant\n",
    "    df[\"label\"] = label\n",
    "    df[\"category\"] = category\n",
    "\n",
    "    if \"Accelerometer\" in f:\n",
    "        df[\"set\"] = acc_set\n",
    "        acc_set += 1\n",
    "        acc_df = pd.concat([acc_df,df])\n",
    "    if \"Gyroscope\" in f:\n",
    "        df[\"set\"] = gyr_set\n",
    "        gyr_set += 1\n",
    "        gyr_df = pd.concat([gyr_df,df])\n"
   ]
  },
  {
   "cell_type": "code",
   "execution_count": 152,
   "metadata": {},
   "outputs": [],
   "source": [
    "acc_df.index = pd.to_datetime(acc_df['epoch (ms)'], unit=\"ms\")\n",
    "gyr_df.index =  pd.to_datetime(gyr_df['epoch (ms)'], unit=\"ms\")\n",
    "\n",
    "acc_df = acc_df.drop(['epoch (ms)',\t'time (01:00)', 'elapsed (s)'], axis=1)\n",
    "gyr_df = gyr_df.drop(['epoch (ms)',\t'time (01:00)', 'elapsed (s)'], axis=1)"
   ]
  },
  {
   "cell_type": "code",
   "execution_count": 153,
   "metadata": {},
   "outputs": [],
   "source": [
    "merged_data = pd.concat([acc_df.iloc[:,:3], gyr_df], axis=1)\n",
    "merged_data.columns = [\"acc_x\",\n",
    "                       \"acc_y\",\n",
    "                       \"acc_z\",\n",
    "                       \"gyr_x\",\n",
    "                       \"gyr_y\",\n",
    "                       \"gyr_z\",\n",
    "                       \"label\",\n",
    "                       \"category\",\n",
    "                       \"participant\",\n",
    "                       \"set\"]"
   ]
  },
  {
   "cell_type": "markdown",
   "metadata": {},
   "source": [
    "## Frequency conversion"
   ]
  },
  {
   "cell_type": "code",
   "execution_count": 154,
   "metadata": {},
   "outputs": [],
   "source": [
    "sampling = {'acc_x':'mean',\n",
    "            'acc_y':'mean',\n",
    "            'acc_z':'mean',\n",
    "            'gyr_x':'mean',\n",
    "            'gyr_y':'mean',\n",
    "            'gyr_z':'mean',\n",
    "            'label':'last',\n",
    "            'category':'last',\n",
    "            'participant':'last',\n",
    "            'set':'last'}\n",
    "\n",
    "# A Grouper allows the user to specify a groupby instruction for an object.\n",
    "# freq : str / frequency object, defaults to None. This will groupby the specified frequency if the target selection (via key or level) is a datetime-like object.\n",
    "days = [g for n,g in merged_data.groupby(pd.Grouper(freq=\"D\"))]\n",
    "data_sampled = pd.concat([df.resample(rule=\"200ms\").apply(sampling).dropna() for df in days])\n",
    "\n"
   ]
  },
  {
   "cell_type": "code",
   "execution_count": 155,
   "metadata": {},
   "outputs": [
    {
     "name": "stdout",
     "output_type": "stream",
     "text": [
      "<class 'pandas.core.frame.DataFrame'>\n",
      "DatetimeIndex: 9009 entries, 2019-01-11 15:08:05.200000 to 2019-01-20 17:33:27.800000\n",
      "Data columns (total 10 columns):\n",
      " #   Column       Non-Null Count  Dtype  \n",
      "---  ------       --------------  -----  \n",
      " 0   acc_x        9009 non-null   float64\n",
      " 1   acc_y        9009 non-null   float64\n",
      " 2   acc_z        9009 non-null   float64\n",
      " 3   gyr_x        9009 non-null   float64\n",
      " 4   gyr_y        9009 non-null   float64\n",
      " 5   gyr_z        9009 non-null   float64\n",
      " 6   label        9009 non-null   object \n",
      " 7   category     9009 non-null   object \n",
      " 8   participant  9009 non-null   object \n",
      " 9   set          9009 non-null   int32  \n",
      "dtypes: float64(6), int32(1), object(3)\n",
      "memory usage: 739.0+ KB\n"
     ]
    }
   ],
   "source": [
    "data_sampled[\"set\"] = data_sampled[\"set\"].astype(\"int\")\n",
    "data_sampled.info()\n"
   ]
  },
  {
   "cell_type": "code",
   "execution_count": 156,
   "metadata": {},
   "outputs": [],
   "source": [
    "# Export dataset\n",
    "data_sampled.to_pickle(\"../../data/intermediate/01_data_processed.pkl\")"
   ]
  },
  {
   "cell_type": "code",
   "execution_count": null,
   "metadata": {},
   "outputs": [],
   "source": []
  }
 ],
 "metadata": {
  "kernelspec": {
   "display_name": "tracking-barbell-exercises",
   "language": "python",
   "name": "python3"
  },
  "language_info": {
   "codemirror_mode": {
    "name": "ipython",
    "version": 3
   },
   "file_extension": ".py",
   "mimetype": "text/x-python",
   "name": "python",
   "nbconvert_exporter": "python",
   "pygments_lexer": "ipython3",
   "version": "3.8.15"
  }
 },
 "nbformat": 4,
 "nbformat_minor": 2
}
