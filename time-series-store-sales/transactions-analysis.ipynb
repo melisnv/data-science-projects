{
 "cells": [
  {
   "cell_type": "markdown",
   "metadata": {},
   "source": [
    "# Transactions Analysis\n",
    "\n",
    "Predicting future sales based on `historical transaction` data enables retail store managers to optimize staffing schedules effectively. This approach helps prevent overstaffing during slow periods or understaffing during peak periods, allowing for a more efficient and responsive workforce management strategy. <br>\n",
    "\n",
    "Transaction data provides a rich source of historical information on sales patterns, allowing analysts to identify recurring trends and seasonality."
   ]
  },
  {
   "cell_type": "code",
   "execution_count": 37,
   "metadata": {},
   "outputs": [],
   "source": [
    "# libraries\n",
    "import warnings\n",
    "warnings.filterwarnings(\"ignore\")\n",
    "\n",
    "import numpy as np\n",
    "import pandas as pd\n",
    "import seaborn as sns\n",
    "import matplotlib.pyplot as plt\n",
    "import matplotlib.ticker as mticker\n",
    "\n",
    "\n",
    "pd.set_option(\"display.max_columns\",None)\n",
    "pd.set_option(\"display.width\",500)\n",
    "sns.set(rc={\"figure.figsize\":(12,12)}) "
   ]
  },
  {
   "cell_type": "code",
   "execution_count": 38,
   "metadata": {},
   "outputs": [
    {
     "data": {
      "text/html": [
       "<div>\n",
       "<style scoped>\n",
       "    .dataframe tbody tr th:only-of-type {\n",
       "        vertical-align: middle;\n",
       "    }\n",
       "\n",
       "    .dataframe tbody tr th {\n",
       "        vertical-align: top;\n",
       "    }\n",
       "\n",
       "    .dataframe thead th {\n",
       "        text-align: right;\n",
       "    }\n",
       "</style>\n",
       "<table border=\"1\" class=\"dataframe\">\n",
       "  <thead>\n",
       "    <tr style=\"text-align: right;\">\n",
       "      <th></th>\n",
       "      <th>date</th>\n",
       "      <th>store_nbr</th>\n",
       "      <th>transactions</th>\n",
       "    </tr>\n",
       "  </thead>\n",
       "  <tbody>\n",
       "    <tr>\n",
       "      <th>0</th>\n",
       "      <td>2013-01-01</td>\n",
       "      <td>25</td>\n",
       "      <td>770</td>\n",
       "    </tr>\n",
       "    <tr>\n",
       "      <th>1</th>\n",
       "      <td>2013-01-02</td>\n",
       "      <td>1</td>\n",
       "      <td>2111</td>\n",
       "    </tr>\n",
       "    <tr>\n",
       "      <th>2</th>\n",
       "      <td>2013-01-02</td>\n",
       "      <td>2</td>\n",
       "      <td>2358</td>\n",
       "    </tr>\n",
       "    <tr>\n",
       "      <th>3</th>\n",
       "      <td>2013-01-02</td>\n",
       "      <td>3</td>\n",
       "      <td>3487</td>\n",
       "    </tr>\n",
       "    <tr>\n",
       "      <th>4</th>\n",
       "      <td>2013-01-02</td>\n",
       "      <td>4</td>\n",
       "      <td>1922</td>\n",
       "    </tr>\n",
       "    <tr>\n",
       "      <th>5</th>\n",
       "      <td>2013-01-02</td>\n",
       "      <td>5</td>\n",
       "      <td>1903</td>\n",
       "    </tr>\n",
       "    <tr>\n",
       "      <th>6</th>\n",
       "      <td>2013-01-02</td>\n",
       "      <td>6</td>\n",
       "      <td>2143</td>\n",
       "    </tr>\n",
       "    <tr>\n",
       "      <th>7</th>\n",
       "      <td>2013-01-02</td>\n",
       "      <td>7</td>\n",
       "      <td>1874</td>\n",
       "    </tr>\n",
       "    <tr>\n",
       "      <th>8</th>\n",
       "      <td>2013-01-02</td>\n",
       "      <td>8</td>\n",
       "      <td>3250</td>\n",
       "    </tr>\n",
       "    <tr>\n",
       "      <th>9</th>\n",
       "      <td>2013-01-02</td>\n",
       "      <td>9</td>\n",
       "      <td>2940</td>\n",
       "    </tr>\n",
       "    <tr>\n",
       "      <th>10</th>\n",
       "      <td>2013-01-02</td>\n",
       "      <td>10</td>\n",
       "      <td>1293</td>\n",
       "    </tr>\n",
       "    <tr>\n",
       "      <th>11</th>\n",
       "      <td>2013-01-02</td>\n",
       "      <td>11</td>\n",
       "      <td>3547</td>\n",
       "    </tr>\n",
       "    <tr>\n",
       "      <th>12</th>\n",
       "      <td>2013-01-02</td>\n",
       "      <td>12</td>\n",
       "      <td>1362</td>\n",
       "    </tr>\n",
       "    <tr>\n",
       "      <th>13</th>\n",
       "      <td>2013-01-02</td>\n",
       "      <td>13</td>\n",
       "      <td>1102</td>\n",
       "    </tr>\n",
       "    <tr>\n",
       "      <th>14</th>\n",
       "      <td>2013-01-02</td>\n",
       "      <td>14</td>\n",
       "      <td>2002</td>\n",
       "    </tr>\n",
       "    <tr>\n",
       "      <th>15</th>\n",
       "      <td>2013-01-02</td>\n",
       "      <td>15</td>\n",
       "      <td>1622</td>\n",
       "    </tr>\n",
       "    <tr>\n",
       "      <th>16</th>\n",
       "      <td>2013-01-02</td>\n",
       "      <td>16</td>\n",
       "      <td>1167</td>\n",
       "    </tr>\n",
       "    <tr>\n",
       "      <th>17</th>\n",
       "      <td>2013-01-02</td>\n",
       "      <td>17</td>\n",
       "      <td>1580</td>\n",
       "    </tr>\n",
       "    <tr>\n",
       "      <th>18</th>\n",
       "      <td>2013-01-02</td>\n",
       "      <td>18</td>\n",
       "      <td>1635</td>\n",
       "    </tr>\n",
       "    <tr>\n",
       "      <th>19</th>\n",
       "      <td>2013-01-02</td>\n",
       "      <td>19</td>\n",
       "      <td>1369</td>\n",
       "    </tr>\n",
       "  </tbody>\n",
       "</table>\n",
       "</div>"
      ],
      "text/plain": [
       "          date  store_nbr  transactions\n",
       "0   2013-01-01         25           770\n",
       "1   2013-01-02          1          2111\n",
       "2   2013-01-02          2          2358\n",
       "3   2013-01-02          3          3487\n",
       "4   2013-01-02          4          1922\n",
       "5   2013-01-02          5          1903\n",
       "6   2013-01-02          6          2143\n",
       "7   2013-01-02          7          1874\n",
       "8   2013-01-02          8          3250\n",
       "9   2013-01-02          9          2940\n",
       "10  2013-01-02         10          1293\n",
       "11  2013-01-02         11          3547\n",
       "12  2013-01-02         12          1362\n",
       "13  2013-01-02         13          1102\n",
       "14  2013-01-02         14          2002\n",
       "15  2013-01-02         15          1622\n",
       "16  2013-01-02         16          1167\n",
       "17  2013-01-02         17          1580\n",
       "18  2013-01-02         18          1635\n",
       "19  2013-01-02         19          1369"
      ]
     },
     "execution_count": 38,
     "metadata": {},
     "output_type": "execute_result"
    }
   ],
   "source": [
    "transaction_df = pd.read_csv(\"./data/raw/transactions.csv\")\n",
    "store_df = pd.read_csv(\"./data/raw/stores.csv\")\n",
    "sales_store_oil_df = pd.read_csv(\"./data/processed/sales_store_oil_df.csv\")\n",
    "transaction_df.head(20)"
   ]
  },
  {
   "cell_type": "code",
   "execution_count": 39,
   "metadata": {},
   "outputs": [
    {
     "name": "stdout",
     "output_type": "stream",
     "text": [
      "<class 'pandas.core.frame.DataFrame'>\n",
      "RangeIndex: 83488 entries, 0 to 83487\n",
      "Data columns (total 3 columns):\n",
      " #   Column        Non-Null Count  Dtype \n",
      "---  ------        --------------  ----- \n",
      " 0   date          83488 non-null  object\n",
      " 1   store_nbr     83488 non-null  int64 \n",
      " 2   transactions  83488 non-null  int64 \n",
      "dtypes: int64(2), object(1)\n",
      "memory usage: 1.9+ MB\n"
     ]
    }
   ],
   "source": [
    "transaction_df.info()"
   ]
  },
  {
   "cell_type": "code",
   "execution_count": 40,
   "metadata": {},
   "outputs": [
    {
     "data": {
      "text/html": [
       "<div>\n",
       "<style scoped>\n",
       "    .dataframe tbody tr th:only-of-type {\n",
       "        vertical-align: middle;\n",
       "    }\n",
       "\n",
       "    .dataframe tbody tr th {\n",
       "        vertical-align: top;\n",
       "    }\n",
       "\n",
       "    .dataframe thead th {\n",
       "        text-align: right;\n",
       "    }\n",
       "</style>\n",
       "<table border=\"1\" class=\"dataframe\">\n",
       "  <thead>\n",
       "    <tr style=\"text-align: right;\">\n",
       "      <th></th>\n",
       "      <th>count</th>\n",
       "      <th>mean</th>\n",
       "      <th>std</th>\n",
       "      <th>min</th>\n",
       "      <th>25%</th>\n",
       "      <th>50%</th>\n",
       "      <th>75%</th>\n",
       "      <th>max</th>\n",
       "    </tr>\n",
       "  </thead>\n",
       "  <tbody>\n",
       "    <tr>\n",
       "      <th>store_nbr</th>\n",
       "      <td>83488.0</td>\n",
       "      <td>26.939237</td>\n",
       "      <td>15.608204</td>\n",
       "      <td>1.0</td>\n",
       "      <td>13.0</td>\n",
       "      <td>27.0</td>\n",
       "      <td>40.0</td>\n",
       "      <td>54.0</td>\n",
       "    </tr>\n",
       "    <tr>\n",
       "      <th>transactions</th>\n",
       "      <td>83488.0</td>\n",
       "      <td>1694.602158</td>\n",
       "      <td>963.286644</td>\n",
       "      <td>5.0</td>\n",
       "      <td>1046.0</td>\n",
       "      <td>1393.0</td>\n",
       "      <td>2079.0</td>\n",
       "      <td>8359.0</td>\n",
       "    </tr>\n",
       "  </tbody>\n",
       "</table>\n",
       "</div>"
      ],
      "text/plain": [
       "                count         mean         std  min     25%     50%     75%     max\n",
       "store_nbr     83488.0    26.939237   15.608204  1.0    13.0    27.0    40.0    54.0\n",
       "transactions  83488.0  1694.602158  963.286644  5.0  1046.0  1393.0  2079.0  8359.0"
      ]
     },
     "execution_count": 40,
     "metadata": {},
     "output_type": "execute_result"
    }
   ],
   "source": [
    "transaction_df.describe().T"
   ]
  },
  {
   "cell_type": "code",
   "execution_count": 41,
   "metadata": {},
   "outputs": [
    {
     "data": {
      "text/plain": [
       "date            0\n",
       "store_nbr       0\n",
       "transactions    0\n",
       "dtype: int64"
      ]
     },
     "execution_count": 41,
     "metadata": {},
     "output_type": "execute_result"
    }
   ],
   "source": [
    "transaction_df.isnull().sum()"
   ]
  },
  {
   "cell_type": "code",
   "execution_count": 42,
   "metadata": {},
   "outputs": [
    {
     "data": {
      "image/png": "[encoded data removed]",
      "text/plain": [
       "<Figure size 1500x800 with 1 Axes>"
      ]
     },
     "metadata": {},
     "output_type": "display_data"
    }
   ],
   "source": [
    "grouped_df = transaction_df.groupby(\"store_nbr\")[\"transactions\"].sum().reset_index()\n",
    "\n",
    "plt.figure(figsize=(15, 8))\n",
    "ax = sns.barplot(x='store_nbr', y='transactions', data=grouped_df, palette = \"Blues_d\")\n",
    "plt.title('Total Transactions per Store')\n",
    "plt.xlabel('Store Number')\n",
    "plt.ylabel('Total Transactions')\n",
    "plt.xticks(rotation=45)  # rotation and alignment\n",
    "ax.yaxis.set_major_formatter(mticker.FuncFormatter(lambda x, _: int(x)))\n",
    "plt.tight_layout()\n",
    "plt.show()"
   ]
  },
  {
   "cell_type": "code",
   "execution_count": 43,
   "metadata": {},
   "outputs": [
    {
     "name": "stdout",
     "output_type": "stream",
     "text": [
      "Type: Ambato, Store Numbers: [23, 50]\n",
      "Type: Babahoyo, Store Numbers: [31]\n",
      "Type: Cayambe, Store Numbers: [11]\n",
      "Type: Cuenca, Store Numbers: [37, 39, 42]\n",
      "Type: Daule, Store Numbers: [27]\n",
      "Type: El Carmen, Store Numbers: [54]\n",
      "Type: Esmeraldas, Store Numbers: [43]\n",
      "Type: Guaranda, Store Numbers: [19]\n",
      "Type: Guayaquil, Store Numbers: [24, 26, 28, 29, 30, 32, 34, 51]\n",
      "Type: Ibarra, Store Numbers: [15]\n",
      "Type: Latacunga, Store Numbers: [12, 13]\n",
      "Type: Libertad, Store Numbers: [36]\n",
      "Type: Loja, Store Numbers: [38]\n",
      "Type: Machala, Store Numbers: [40, 41]\n",
      "Type: Manta, Store Numbers: [52, 53]\n",
      "Type: Playas, Store Numbers: [35]\n",
      "Type: Puyo, Store Numbers: [22]\n",
      "Type: Quevedo, Store Numbers: [33]\n",
      "Type: Quito, Store Numbers: [1, 2, 3, 4, 6, 7, 8, 9, 10, 17, 18, 20, 44, 45, 46, 47, 48, 49]\n",
      "Type: Riobamba, Store Numbers: [14]\n",
      "Type: Salinas, Store Numbers: [25]\n",
      "Type: Santo Domingo, Store Numbers: [5, 16, 21]\n"
     ]
    }
   ],
   "source": [
    "groped_stores = store_df.groupby(\"city\")[\"store_nbr\"].apply(list)\n",
    "\n",
    "for city, numbers in groped_stores.items():\n",
    "    print(f'Type: {city}, Store Numbers: {numbers}')"
   ]
  },
  {
   "cell_type": "markdown",
   "metadata": {},
   "source": [
    "Above graph aligns with the total sales data. It was noted that during certain seasons, such as Christmas, sales in the city of Playas surpassed those in Guayaquil or Quito. This trend may be attributed to Playas having an economy centered around tourism. Nevertheless, this also indicates that the variation in seasonal sales does not correspond with the overall sales across the years. <br>\n",
    "\n",
    "In general, stores 44, 45, 46, and 47, all surpassing 6,000,000 in sales and situated in Quito, stand out with the highest sales figures. This observation holds significance for shaping sales strategies in the city. Further investigation could shed light on why only these 4 stores in Quito achieve such notable success, especially considering the presence of 14 additional stores in the same city.<br>\n",
    "\n",
    "It's plausible that the success of these 4 stores could be attributed to their strategic locations, possibly in the bustling city center or high-traffic areas. On the contrary, the remaining stores might be comparatively smaller or situated in less optimal locations, prompting the need for a closer examination of their specific circumstances."
   ]
  },
  {
   "cell_type": "code",
   "execution_count": 44,
   "metadata": {},
   "outputs": [],
   "source": [
    "merged_df = transaction_df.merge(sales_store_oil_df, on=[\"date\", \"store_nbr\"], how=\"left\")"
   ]
  },
  {
   "cell_type": "code",
   "execution_count": 45,
   "metadata": {},
   "outputs": [],
   "source": [
    "merged_df.to_csv('./data/processed/sales_transaction_store_oil_df.csv', index=False)"
   ]
  },
  {
   "cell_type": "code",
   "execution_count": null,
   "metadata": {},
   "outputs": [],
   "source": []
  }
 ],
 "metadata": {
  "kernelspec": {
   "display_name": "store-sales-timeseries-project",
   "language": "python",
   "name": "python3"
  },
  "language_info": {
   "codemirror_mode": {
    "name": "ipython",
    "version": 3
   },
   "file_extension": ".py",
   "mimetype": "text/x-python",
   "name": "python",
   "nbconvert_exporter": "python",
   "pygments_lexer": "ipython3",
   "version": "3.8.15"
  }
 },
 "nbformat": 4,
 "nbformat_minor": 2
}
